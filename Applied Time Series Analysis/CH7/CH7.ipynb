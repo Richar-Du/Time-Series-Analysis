{
 "cells": [
  {
   "cell_type": "markdown",
   "metadata": {
    "collapsed": true,
    "pycharm": {
     "name": "#%% md\n"
    }
   },
   "source": [
    "## A Introduction to Forecasting With Univariate Models"
   ]
  },
  {
   "cell_type": "code",
   "execution_count": 78,
   "outputs": [],
   "source": [
    "# 导入需要的包\n",
    "import numpy as np\n",
    "import pandas as pd\n",
    "import statsmodels\n",
    "from statsmodels.graphics.tsaplots import plot_acf, plot_pacf\n",
    "import statsmodels.tsa.api as smt\n",
    "from statsmodels.formula.api import ols\n",
    "import statsmodels.api as sm\n",
    "from statsmodels.tsa.ar_model import AutoReg\n",
    "from statsmodels.stats.diagnostic import acorr_ljungbox\n",
    "import matplotlib.pyplot as plt\n",
    "from scipy import stats"
   ],
   "metadata": {
    "collapsed": false,
    "pycharm": {
     "name": "#%%\n",
     "is_executing": false
    }
   }
  },
  {
   "cell_type": "markdown",
   "source": [
    "### Example 7.1"
   ],
   "metadata": {
    "collapsed": false,
    "pycharm": {
     "name": "#%% md\n"
    }
   }
  },
  {
   "cell_type": "markdown",
   "source": [
    "读入数据，并做图查看。\n"
   ],
   "metadata": {
    "collapsed": false
   }
  },
  {
   "cell_type": "code",
   "execution_count": 49,
   "outputs": [
    {
     "data": {
      "text/plain": "<Figure size 432x288 with 1 Axes>",
      "image/png": "[encoded data removed]"
     },
     "metadata": {
      "needs_background": "dark"
     },
     "output_type": "display_data"
    }
   ],
   "source": [
    "data1=pd.read_csv(\"D:/anaconda3/envs/python36/TimeSeries/r20.csv\")\n",
    "data2=pd.read_csv(\"D:/anaconda3/envs/python36/TimeSeries/rs.csv\")\n",
    "data=data1['r20']-data2['rs']\n",
    "data=data.dropna(axis=0,how='all')\n",
    "ts=np.zeros(len(data))\n",
    "for i in range(len(data)):\n",
    "    ts[i]=data[i]\n",
    "plt.plot(ts,'r')\n",
    "plt.ylabel('r20-rs',color=\"white\")\n",
    "plt.xlabel('time',color=\"white\")\n",
    "plt.tick_params(axis='x',colors='white')\n",
    "plt.tick_params(axis='y',colors='white')\n",
    "plt.show()"
   ],
   "metadata": {
    "collapsed": false,
    "pycharm": {
     "name": "#%%\n",
     "is_executing": false
    }
   }
  },
  {
   "cell_type": "code",
   "execution_count": 6,
   "outputs": [
    {
     "data": {
      "text/plain": "<class 'statsmodels.iolib.summary.Summary'>\n\"\"\"\n                            AutoReg Model Results                             \n==============================================================================\nDep. Variable:                      y   No. Observations:                  786\nModel:                     AutoReg(2)   Log Likelihood                -381.018\nMethod:               Conditional MLE   S.D. of innovations              0.393\nDate:                Fri, 07 Aug 2020   AIC                             -1.856\nTime:                        15:10:54   BIC                             -1.832\nSample:                             2   HQIC                            -1.847\n                                  786                                         \n==============================================================================\n                 coef    std err          z      P>|z|      [0.025      0.975]\n------------------------------------------------------------------------------\nintercept      0.0358      0.017      2.124      0.034       0.003       0.069\ny.L1           1.1928      0.035     34.277      0.000       1.125       1.261\ny.L2          -0.2242      0.035     -6.448      0.000      -0.292      -0.156\n                                    Roots                                    \n=============================================================================\n                  Real          Imaginary           Modulus         Frequency\n-----------------------------------------------------------------------------\nAR.1            1.0427           +0.0000j            1.0427            0.0000\nAR.2            4.2767           +0.0000j            4.2767            0.0000\n-----------------------------------------------------------------------------\n\"\"\"",
      "text/html": "<table class=\"simpletable\">\n<caption>AutoReg Model Results</caption>\n<tr>\n  <th>Dep. Variable:</th>         <td>y</td>        <th>  No. Observations:  </th>    <td>786</td>  \n</tr>\n<tr>\n  <th>Model:</th>            <td>AutoReg(2)</td>    <th>  Log Likelihood     </th> <td>-381.018</td>\n</tr>\n<tr>\n  <th>Method:</th>         <td>Conditional MLE</td> <th>  S.D. of innovations</th>   <td>0.393</td> \n</tr>\n<tr>\n  <th>Date:</th>          <td>Fri, 07 Aug 2020</td> <th>  AIC                </th>  <td>-1.856</td> \n</tr>\n<tr>\n  <th>Time:</th>              <td>15:10:54</td>     <th>  BIC                </th>  <td>-1.832</td> \n</tr>\n<tr>\n  <th>Sample:</th>                <td>2</td>        <th>  HQIC               </th>  <td>-1.847</td> \n</tr>\n<tr>\n  <th></th>                      <td>786</td>       <th>                     </th>     <td> </td>   \n</tr>\n</table>\n<table class=\"simpletable\">\n<tr>\n      <td></td>         <th>coef</th>     <th>std err</th>      <th>z</th>      <th>P>|z|</th>  <th>[0.025</th>    <th>0.975]</th>  \n</tr>\n<tr>\n  <th>intercept</th> <td>    0.0358</td> <td>    0.017</td> <td>    2.124</td> <td> 0.034</td> <td>    0.003</td> <td>    0.069</td>\n</tr>\n<tr>\n  <th>y.L1</th>      <td>    1.1928</td> <td>    0.035</td> <td>   34.277</td> <td> 0.000</td> <td>    1.125</td> <td>    1.261</td>\n</tr>\n<tr>\n  <th>y.L2</th>      <td>   -0.2242</td> <td>    0.035</td> <td>   -6.448</td> <td> 0.000</td> <td>   -0.292</td> <td>   -0.156</td>\n</tr>\n</table>\n<table class=\"simpletable\">\n<caption>Roots</caption>\n<tr>\n    <td></td>   <th>            Real</th>  <th>         Imaginary</th> <th>         Modulus</th>  <th>        Frequency</th>\n</tr>\n<tr>\n  <th>AR.1</th> <td>           1.0427</td> <td>          +0.0000j</td> <td>           1.0427</td> <td>           0.0000</td>\n</tr>\n<tr>\n  <th>AR.2</th> <td>           4.2767</td> <td>          +0.0000j</td> <td>           4.2767</td> <td>           0.0000</td>\n</tr>\n</table>"
     },
     "metadata": {},
     "output_type": "execute_result",
     "execution_count": 6
    }
   ],
   "source": [
    "# AR(2)参数估计\n",
    "resultAR = AutoReg(ts, 2).fit()\n",
    "resultAR.summary()"
   ],
   "metadata": {
    "collapsed": false,
    "pycharm": {
     "name": "#%%\n",
     "is_executing": false
    }
   }
  },
  {
   "cell_type": "markdown",
   "source": [
    "使用AR(2)估计得到的模型是x[t]=0.036+1.193*x[t-1]-0.224*x[t-2]+a[t]，根据序列的最后两个观察值x[T-1]=1.69和x[T]=1.63，可以预测未来三天的数据"
   ],
   "metadata": {
    "collapsed": false,
    "pycharm": {
     "name": "#%% md\n"
    }
   }
  },
  {
   "cell_type": "code",
   "execution_count": 14,
   "outputs": [
    {
     "name": "stdout",
     "text": [
      "The forecast of the following 3 period: [1.60203, 1.5821017900000003, 1.5645927154700003]\n"
     ],
     "output_type": "stream"
    }
   ],
   "source": [
    "T=len(ts)-1\n",
    "f=[0,0,0]\n",
    "f[0]=0.036+1.193*ts[T]-0.224*ts[T-1]\n",
    "f[1]=0.036+1.193*f[0]-0.224*ts[T]\n",
    "f[2]=0.036+1.193*f[1]-0.224*f[0]\n",
    "print(\"The forecast of the following 3 period:\",f)"
   ],
   "metadata": {
    "collapsed": false,
    "pycharm": {
     "name": "#%%\n",
     "is_executing": false
    }
   }
  },
  {
   "cell_type": "markdown",
   "source": [
    "随着预测步长的增加，最终的预测值将会趋近于样本均值1.195，"
   ],
   "metadata": {
    "collapsed": false,
    "pycharm": {
     "name": "#%% md\n"
    }
   }
  },
  {
   "cell_type": "code",
   "execution_count": 36,
   "outputs": [
    {
     "data": {
      "text/plain": "<Figure size 432x288 with 1 Axes>",
      "image/png": "[encoded data removed]"
     },
     "metadata": {
      "needs_background": "dark"
     },
     "output_type": "display_data"
    }
   ],
   "source": [
    "prediction=resultAR.predict(786,826)\n",
    "plt.plot(prediction)\n",
    "plt.plot([1.195]*len(prediction),linestyle='--')\n",
    "plt.ylabel('prediction')\n",
    "plt.xlabel('time')\n",
    "plt.ylim(-1, 3)\n",
    "plt.tick_params(axis='x',colors='white')\n",
    "plt.tick_params(axis='y',colors='white')\n",
    "plt.show()"
   ],
   "metadata": {
    "collapsed": false,
    "pycharm": {
     "name": "#%%\n",
     "is_executing": false
    }
   }
  },
  {
   "cell_type": "markdown",
   "source": [
    "权重可以通过如下公式计算："
   ],
   "metadata": {
    "collapsed": false,
    "pycharm": {
     "name": "#%% md\n"
    }
   }
  },
  {
   "cell_type": "code",
   "execution_count": 19,
   "outputs": [
    {
     "name": "stdout",
     "text": [
      "PHI[0]=1.193\n",
      "PHI[1]=1.1992490000000002\n",
      "PHI[2]=1.1634720570000001\n",
      "PHI[3]=1.1193903880010003\n"
     ],
     "output_type": "stream"
    }
   ],
   "source": [
    "phi1=1.193\n",
    "phi2=-0.224\n",
    "PHI=[0,0,0,0]\n",
    "PHI[0]=phi1\n",
    "PHI[1]=phi1**2+phi2\n",
    "PHI[2]=phi1**3+2*phi1*phi2\n",
    "PHI[3]=phi1**4+3*phi1**2*phi2+phi2**2\n",
    "for i in range(len(PHI)):\n",
    "    print('PHI[{}]={}'.format(i,PHI[i]))"
   ],
   "metadata": {
    "collapsed": false,
    "pycharm": {
     "name": "#%%\n",
     "is_executing": false
    }
   }
  },
  {
   "cell_type": "markdown",
   "source": [
    "由于白噪声的方差是0.393，因此可以计算出预测误差的方差如下："
   ],
   "metadata": {
    "collapsed": false,
    "pycharm": {
     "name": "#%% md\n"
    }
   }
  },
  {
   "cell_type": "code",
   "execution_count": 23,
   "outputs": [
    {
     "name": "stdout",
     "text": [
      "V[0]=0.154449\n",
      "V[1]=0.37426838480100005\n",
      "V[2]=0.5963966530327905\n",
      "V[3]=0.805469202640553\n"
     ],
     "output_type": "stream"
    }
   ],
   "source": [
    "V=[0,0,0,0]\n",
    "V[0]=0.393**2\n",
    "V[1]=0.393**2*(1+PHI[0]**2)\n",
    "V[2]=0.393**2*(1+PHI[0]**2+PHI[1]**2)\n",
    "V[3]=0.393**2*(1+PHI[0]**2+PHI[1]**2+PHI[2]**2)\n",
    "for i in range(len(V)):\n",
    "    print('V[{}]={}'.format(i,V[i]))"
   ],
   "metadata": {
    "collapsed": false,
    "pycharm": {
     "name": "#%%\n",
     "is_executing": false
    }
   }
  },
  {
   "cell_type": "markdown",
   "source": [
    "预测误差的方差最终会收敛到样本方差3.284。"
   ],
   "metadata": {
    "collapsed": false,
    "pycharm": {
     "name": "#%% md\n"
    }
   }
  },
  {
   "cell_type": "markdown",
   "source": [
    "如果用ARIMA(0,1,1)来对上述时间序列进行建模，得到如下结果："
   ],
   "metadata": {
    "collapsed": false,
    "pycharm": {
     "name": "#%% md\n"
    }
   }
  },
  {
   "cell_type": "code",
   "execution_count": 38,
   "outputs": [
    {
     "name": "stderr",
     "text": [
      "D:\\anaconda3\\envs\\python36\\lib\\site-packages\\statsmodels\\tsa\\base\\tsa_model.py:214: ValueWarning: An unsupported index was provided and will be ignored when e.g. forecasting.\n",
      "  ' ignored when e.g. forecasting.', ValueWarning)\n"
     ],
     "output_type": "stream"
    },
    {
     "data": {
      "text/plain": "<class 'statsmodels.iolib.summary.Summary'>\n\"\"\"\n                            AutoReg Model Results                             \n==============================================================================\nDep. Variable:                      y   No. Observations:                  785\nModel:                     AutoReg(1)   Log Likelihood                -389.043\nMethod:               Conditional MLE   S.D. of innovations              0.397\nDate:                Fri, 07 Aug 2020   AIC                             -1.838\nTime:                        16:05:23   BIC                             -1.820\nSample:                             1   HQIC                            -1.831\n                                  785                                         \n==============================================================================\n                 coef    std err          z      P>|z|      [0.025      0.975]\n------------------------------------------------------------------------------\nintercept     -0.0017      0.014     -0.117      0.907      -0.029       0.026\ny.L1           0.2090      0.035      5.983      0.000       0.141       0.277\n                                    Roots                                    \n=============================================================================\n                  Real          Imaginary           Modulus         Frequency\n-----------------------------------------------------------------------------\nAR.1            4.7857           +0.0000j            4.7857            0.0000\n-----------------------------------------------------------------------------\n\"\"\"",
      "text/html": "<table class=\"simpletable\">\n<caption>AutoReg Model Results</caption>\n<tr>\n  <th>Dep. Variable:</th>         <td>y</td>        <th>  No. Observations:  </th>    <td>785</td>  \n</tr>\n<tr>\n  <th>Model:</th>            <td>AutoReg(1)</td>    <th>  Log Likelihood     </th> <td>-389.043</td>\n</tr>\n<tr>\n  <th>Method:</th>         <td>Conditional MLE</td> <th>  S.D. of innovations</th>   <td>0.397</td> \n</tr>\n<tr>\n  <th>Date:</th>          <td>Fri, 07 Aug 2020</td> <th>  AIC                </th>  <td>-1.838</td> \n</tr>\n<tr>\n  <th>Time:</th>              <td>16:05:23</td>     <th>  BIC                </th>  <td>-1.820</td> \n</tr>\n<tr>\n  <th>Sample:</th>                <td>1</td>        <th>  HQIC               </th>  <td>-1.831</td> \n</tr>\n<tr>\n  <th></th>                      <td>785</td>       <th>                     </th>     <td> </td>   \n</tr>\n</table>\n<table class=\"simpletable\">\n<tr>\n      <td></td>         <th>coef</th>     <th>std err</th>      <th>z</th>      <th>P>|z|</th>  <th>[0.025</th>    <th>0.975]</th>  \n</tr>\n<tr>\n  <th>intercept</th> <td>   -0.0017</td> <td>    0.014</td> <td>   -0.117</td> <td> 0.907</td> <td>   -0.029</td> <td>    0.026</td>\n</tr>\n<tr>\n  <th>y.L1</th>      <td>    0.2090</td> <td>    0.035</td> <td>    5.983</td> <td> 0.000</td> <td>    0.141</td> <td>    0.277</td>\n</tr>\n</table>\n<table class=\"simpletable\">\n<caption>Roots</caption>\n<tr>\n    <td></td>   <th>            Real</th>  <th>         Imaginary</th> <th>         Modulus</th>  <th>        Frequency</th>\n</tr>\n<tr>\n  <th>AR.1</th> <td>           4.7857</td> <td>          +0.0000j</td> <td>           4.7857</td> <td>           0.0000</td>\n</tr>\n</table>"
     },
     "metadata": {},
     "output_type": "execute_result",
     "execution_count": 38
    }
   ],
   "source": [
    "w=data.diff().dropna(axis=0,how='all')\n",
    "resultAR = AutoReg(w, 1).fit()\n",
    "resultAR.summary()"
   ],
   "metadata": {
    "collapsed": false,
    "pycharm": {
     "name": "#%%\n",
     "is_executing": false
    }
   }
  },
  {
   "cell_type": "markdown",
   "source": [
    "白噪声方差是0.397，如果将差分序列视为AR(1)过程，则AR1的系数是0.209，忽略不显著区别于0的截距。"
   ],
   "metadata": {
    "collapsed": false,
    "pycharm": {
     "name": "#%% md\n"
    }
   }
  },
  {
   "cell_type": "markdown",
   "source": [
    "预测未来数据如下："
   ],
   "metadata": {
    "collapsed": false,
    "pycharm": {
     "name": "#%% md\n"
    }
   }
  },
  {
   "cell_type": "code",
   "execution_count": 44,
   "outputs": [
    {
     "name": "stdout",
     "text": [
      "The prediction of the following day: 1.5003965187291681\n"
     ],
     "output_type": "stream"
    }
   ],
   "source": [
    "np.random.seed(7)\n",
    "a=np.random.randn(len(data))*0.397\n",
    "f[0]=data[785]+0.209*a[785]\n",
    "print(\"The prediction of the following day:\",f[0])"
   ],
   "metadata": {
    "collapsed": false,
    "pycharm": {
     "name": "#%%\n",
     "is_executing": false
    }
   }
  },
  {
   "cell_type": "code",
   "execution_count": null,
   "outputs": [],
   "source": [],
   "metadata": {
    "collapsed": false,
    "pycharm": {
     "name": "#%%\n"
    }
   }
  },
  {
   "cell_type": "markdown",
   "source": [
    "对所有的h>1，预测值都为1.5，因此预测序列没有收敛到样本均值的趋势。\n",
    "预测误差的方差可以通过下式计算："
   ],
   "metadata": {
    "collapsed": false,
    "pycharm": {
     "name": "#%% md\n"
    }
   }
  },
  {
   "cell_type": "code",
   "execution_count": 48,
   "outputs": [
    {
     "data": {
      "text/plain": "<Figure size 432x288 with 1 Axes>",
      "image/png": "[encoded data removed]"
     },
     "metadata": {
      "needs_background": "dark"
     },
     "output_type": "display_data"
    }
   ],
   "source": [
    "V=[0]*100\n",
    "for i in range(len(V)):\n",
    "    V[i]=0.398**2*(1+1.204**2*(i-1))\n",
    "plt.plot(V)\n",
    "plt.ylabel('Variance',color=\"white\")\n",
    "plt.xlabel('time',color=\"white\")\n",
    "plt.tick_params(axis='x',colors='white')\n",
    "plt.tick_params(axis='y',colors='white')\n",
    "plt.show()"
   ],
   "metadata": {
    "collapsed": false,
    "pycharm": {
     "name": "#%%\n",
     "is_executing": false
    }
   }
  },
  {
   "cell_type": "markdown",
   "source": [
    "可以看出，方差随着预测步长的增加线性无限增长，而不是像AR(2)过程的预测那样，最终收敛于样本方差。"
   ],
   "metadata": {
    "collapsed": false,
    "pycharm": {
     "name": "#%% md\n"
    }
   }
  },
  {
   "cell_type": "markdown",
   "source": [
    "### Examle 7.2"
   ],
   "metadata": {
    "collapsed": false,
    "pycharm": {
     "name": "#%% md\n"
    }
   }
  },
  {
   "cell_type": "markdown",
   "source": [
    "读入数据，按照Example 4.3中用ARIMA(0,1,3)模型拟合数据。"
   ],
   "metadata": {
    "collapsed": false,
    "pycharm": {
     "name": "#%% md\n"
    }
   }
  },
  {
   "cell_type": "code",
   "execution_count": 50,
   "outputs": [
    {
     "name": "stderr",
     "text": [
      "D:\\anaconda3\\envs\\python36\\lib\\site-packages\\statsmodels\\tsa\\base\\tsa_model.py:214: ValueWarning: An unsupported index was provided and will be ignored when e.g. forecasting.\n",
      "  ' ignored when e.g. forecasting.', ValueWarning)\n"
     ],
     "output_type": "stream"
    },
    {
     "data": {
      "text/plain": "<class 'statsmodels.iolib.summary.Summary'>\n\"\"\"\n                              ARMA Model Results                              \n==============================================================================\nDep. Variable:                  value   No. Observations:                 2015\nModel:                     ARMA(0, 3)   Log Likelihood                1354.137\nMethod:                       css-mle   S.D. of innovations              0.124\nDate:                Fri, 07 Aug 2020   AIC                          -2698.274\nTime:                        17:02:44   BIC                          -2670.233\nSample:                             0   HQIC                         -2687.982\n                                                                              \n===============================================================================\n                  coef    std err          z      P>|z|      [0.025      0.975]\n-------------------------------------------------------------------------------\nconst           0.0005      0.001      0.685      0.494      -0.001       0.002\nma.L1.value    -0.5042      0.022    -22.630      0.000      -0.548      -0.461\nma.L2.value    -0.0907      0.026     -3.543      0.000      -0.141      -0.041\nma.L3.value    -0.1165      0.023     -5.088      0.000      -0.161      -0.072\n                                    Roots                                    \n=============================================================================\n                  Real          Imaginary           Modulus         Frequency\n-----------------------------------------------------------------------------\nMA.1            1.2504           -0.0000j            1.2504           -0.0000\nMA.2           -1.0143           -2.4155j            2.6198           -0.3133\nMA.3           -1.0143           +2.4155j            2.6198            0.3133\n-----------------------------------------------------------------------------\n\"\"\"",
      "text/html": "<table class=\"simpletable\">\n<caption>ARMA Model Results</caption>\n<tr>\n  <th>Dep. Variable:</th>       <td>value</td>      <th>  No. Observations:  </th>   <td>2015</td>   \n</tr>\n<tr>\n  <th>Model:</th>            <td>ARMA(0, 3)</td>    <th>  Log Likelihood     </th> <td>1354.137</td> \n</tr>\n<tr>\n  <th>Method:</th>             <td>css-mle</td>     <th>  S.D. of innovations</th>   <td>0.124</td>  \n</tr>\n<tr>\n  <th>Date:</th>          <td>Fri, 07 Aug 2020</td> <th>  AIC                </th> <td>-2698.274</td>\n</tr>\n<tr>\n  <th>Time:</th>              <td>17:02:44</td>     <th>  BIC                </th> <td>-2670.233</td>\n</tr>\n<tr>\n  <th>Sample:</th>                <td>0</td>        <th>  HQIC               </th> <td>-2687.982</td>\n</tr>\n<tr>\n  <th></th>                       <td> </td>        <th>                     </th>     <td> </td>    \n</tr>\n</table>\n<table class=\"simpletable\">\n<tr>\n       <td></td>          <th>coef</th>     <th>std err</th>      <th>z</th>      <th>P>|z|</th>  <th>[0.025</th>    <th>0.975]</th>  \n</tr>\n<tr>\n  <th>const</th>       <td>    0.0005</td> <td>    0.001</td> <td>    0.685</td> <td> 0.494</td> <td>   -0.001</td> <td>    0.002</td>\n</tr>\n<tr>\n  <th>ma.L1.value</th> <td>   -0.5042</td> <td>    0.022</td> <td>  -22.630</td> <td> 0.000</td> <td>   -0.548</td> <td>   -0.461</td>\n</tr>\n<tr>\n  <th>ma.L2.value</th> <td>   -0.0907</td> <td>    0.026</td> <td>   -3.543</td> <td> 0.000</td> <td>   -0.141</td> <td>   -0.041</td>\n</tr>\n<tr>\n  <th>ma.L3.value</th> <td>   -0.1165</td> <td>    0.023</td> <td>   -5.088</td> <td> 0.000</td> <td>   -0.161</td> <td>   -0.072</td>\n</tr>\n</table>\n<table class=\"simpletable\">\n<caption>Roots</caption>\n<tr>\n    <td></td>   <th>            Real</th>  <th>         Imaginary</th> <th>         Modulus</th>  <th>        Frequency</th>\n</tr>\n<tr>\n  <th>MA.1</th> <td>           1.2504</td> <td>          -0.0000j</td> <td>           1.2504</td> <td>          -0.0000</td>\n</tr>\n<tr>\n  <th>MA.2</th> <td>          -1.0143</td> <td>          -2.4155j</td> <td>           2.6198</td> <td>          -0.3133</td>\n</tr>\n<tr>\n  <th>MA.3</th> <td>          -1.0143</td> <td>          +2.4155j</td> <td>           2.6198</td> <td>           0.3133</td>\n</tr>\n</table>"
     },
     "metadata": {},
     "output_type": "execute_result",
     "execution_count": 50
    }
   ],
   "source": [
    "data=pd.read_csv(\"D:/anaconda3/envs/python36/TimeSeries/Global temperature.csv\")\n",
    "ts=data['value']\n",
    "w=ts.diff().dropna(axis=0,how='all')\n",
    "resultMA = smt.ARMA(w, order=(0, 3)).fit()\n",
    "resultMA.summary()"
   ],
   "metadata": {
    "collapsed": false,
    "pycharm": {
     "name": "#%%\n",
     "is_executing": false
    }
   }
  },
  {
   "cell_type": "markdown",
   "source": [
    "忽略不显著大于零的截距，可以得到模型如下：x[t]-x[t-1]=a[t]-0.504*a[t-1]-0.09*a[t-2]-0.117*a[t-3]，其中白噪声的方差是0.124，因此可以作出如下预测："
   ],
   "metadata": {
    "collapsed": false,
    "pycharm": {
     "name": "#%% md\n"
    }
   }
  },
  {
   "cell_type": "code",
   "execution_count": 73,
   "outputs": [
    {
     "name": "stdout",
     "text": [
      "[0.6096555609752963, 0.6213313860565842, 0.6289057176785743, 0, 0, 0, 0, 0, 0, 0, 0, 0, 0, 0, 0, 0, 0, 0, 0, 0, 0, 0, 0, 0, 0, 0, 0, 0, 0, 0, 0, 0, 0, 0, 0, 0, 0, 0, 0, 0, 0, 0, 0, 0, 0, 0, 0, 0, 0, 0, 0, 0, 0, 0, 0, 0, 0, 0, 0, 0, 0, 0, 0, 0, 0, 0, 0, 0, 0, 0, 0, 0, 0, 0, 0, 0, 0, 0, 0, 0, 0, 0, 0, 0, 0, 0, 0, 0, 0, 0, 0, 0, 0, 0, 0, 0, 0, 0, 0, 0]\n"
     ],
     "output_type": "stream"
    },
    {
     "data": {
      "text/plain": "<Figure size 432x288 with 1 Axes>",
      "image/png": "[encoded data removed]"
     },
     "metadata": {
      "needs_background": "dark"
     },
     "output_type": "display_data"
    }
   ],
   "source": [
    "a=np.random.randn(len(data))*0.124\n",
    "T=len(ts)-1\n",
    "f=[0]*100\n",
    "f[0]=ts[T]-0.504*a[T]-0.09*a[T-1]-0.117*a[T-2]\n",
    "f[1]=f[0]-0.09*a[T]-0.117*a[T-1]\n",
    "f[2]=f[1]-0.117*a[T]\n",
    "print(f)\n",
    "for i in range(2,len(f)):\n",
    "    f[i]=f[2]\n",
    "plt.plot(f)\n",
    "plt.ylabel('prediction',color=\"white\")\n",
    "plt.xlabel('time',color=\"white\")\n",
    "plt.tick_params(axis='x',colors='white')\n",
    "plt.tick_params(axis='y',colors='white')\n",
    "plt.show()"
   ],
   "metadata": {
    "collapsed": false,
    "pycharm": {
     "name": "#%%\n",
     "is_executing": false
    }
   }
  },
  {
   "cell_type": "code",
   "execution_count": 87,
   "outputs": [
    {
     "data": {
      "text/plain": "<Figure size 432x288 with 1 Axes>",
      "image/png": "[encoded data removed]"
     },
     "metadata": {
      "needs_background": "light"
     },
     "output_type": "display_data"
    }
   ],
   "source": [
    "data=pd.read_csv(\"D:/anaconda3/envs/python36/TimeSeries/All Share.csv\")\n",
    "ts=np.log(data['value'])\n",
    "plt.plot(ts)\n",
    "plt.show()"
   ],
   "metadata": {
    "collapsed": false,
    "pycharm": {
     "name": "#%%\n",
     "is_executing": false
    }
   }
  },
  {
   "cell_type": "markdown",
   "source": [
    "拟合得到的模型为：x[t]=3.914+0.006*t+e[t];\n",
    "\n",
    "其中e[t]=1.106*e[t-1]=0.118*e[t-2]+a[t]。\n",
    "\n",
    "因此可以通过f_h=3.914+0.006*(T+h)来预测未来的数据"
   ],
   "metadata": {
    "collapsed": false,
    "pycharm": {
     "name": "#%% md\n"
    }
   }
  },
  {
   "cell_type": "code",
   "execution_count": 91,
   "outputs": [
    {
     "data": {
      "text/plain": "<Figure size 432x288 with 1 Axes>",
      "image/png": "[encoded data removed]"
     },
     "metadata": {
      "needs_background": "light"
     },
     "output_type": "display_data"
    }
   ],
   "source": [
    "T=len(ts)-1\n",
    "f=[0]*100\n",
    "for i in range(len(f)):\n",
    "    f[i]=3.914+0.006*(T+1+i)\n",
    "plt.plot([0]*791+f)\n",
    "plt.plot(ts)\n",
    "plt.show()"
   ],
   "metadata": {
    "collapsed": false,
    "pycharm": {
     "name": "#%%\n",
     "is_executing": false
    }
   }
  },
  {
   "cell_type": "code",
   "execution_count": null,
   "outputs": [],
   "source": [
    "\n"
   ],
   "metadata": {
    "collapsed": false,
    "pycharm": {
     "name": "#%%\n"
    }
   }
  }
 ],
 "metadata": {
  "kernelspec": {
   "display_name": "Python 3",
   "language": "python",
   "name": "python3"
  },
  "language_info": {
   "codemirror_mode": {
    "name": "ipython",
    "version": 2
   },
   "file_extension": ".py",
   "mimetype": "text/x-python",
   "name": "python",
   "nbconvert_exporter": "python",
   "pygments_lexer": "ipython2",
   "version": "2.7.6"
  },
  "pycharm": {
   "stem_cell": {
    "cell_type": "raw",
    "source": [],
    "metadata": {
     "collapsed": false
    }
   }
  }
 },
 "nbformat": 4,
 "nbformat_minor": 0
}