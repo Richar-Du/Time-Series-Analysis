{
 "cells": [
  {
   "cell_type": "markdown",
   "metadata": {},
   "source": [
    "## Error Correction, Spurious Regression, and Cointegration"
   ]
  },
  {
   "cell_type": "markdown",
   "metadata": {},
   "source": [
    "## Example 14.1"
   ]
  },
  {
   "cell_type": "code",
   "execution_count": 4,
   "metadata": {},
   "outputs": [],
   "source": [
    "import numpy as np\n",
    "import pandas as pd\n",
    "import csv\n",
    "from scipy import stats\n",
    "import matplotlib.pyplot as plt"
   ]
  },
  {
   "cell_type": "code",
   "execution_count": 7,
   "metadata": {},
   "outputs": [
    {
     "data": {
      "image/png": "[encoded data removed]",
      "text/plain": [
       "<Figure size 432x288 with 1 Axes>"
      ]
     },
     "metadata": {
      "needs_background": "light"
     },
     "output_type": "display_data"
    }
   ],
   "source": [
    "#读入数据\n",
    "r20=pd.read_csv(\"r20.csv\").dropna(axis=0,how='any')['r20']\n",
    "rs=pd.read_csv(\"rs.csv\").dropna(axis=0,how='any')['rs']\n",
    "spread=[]\n",
    "for i in range(len(r20)):\n",
    "    spread.append(r20[i]-rs[i])\n",
    "plt.plot(spread)\n",
    "plt.title('r20-rs')\n",
    "plt.show()"
   ]
  },
  {
   "cell_type": "markdown",
   "metadata": {},
   "source": [
    "在Example12.1中，英国长短期的利率是通过ARDL模型来拟合的，由于r20和rs都是I(1)过程，因此它们有可能是协整的。因为我们很难说rs和r20谁依赖于谁，因此这里我们计算两个协整回归。\n"
   ]
  },
  {
   "cell_type": "code",
   "execution_count": 3,
   "metadata": {},
   "outputs": [
    {
     "name": "stdout",
     "output_type": "stream",
     "text": [
      "[[2.43783076]\n",
      " [0.79886158]]\n",
      "[[-1.0051785 ]\n",
      " [ 0.97429384]]\n"
     ]
    }
   ],
   "source": [
    "def ARDLpq_estimation(sample,samplex,p,q):\n",
    "    if len(sample)!=len(samplex):\n",
    "        print('Wrong!')\n",
    "        return\n",
    "    h=max(p,q)\n",
    "    matrix_x=np.zeros((len(sample)-h,p+q+2))  \n",
    "    array=sample.reshape(len(sample))\n",
    "    arrayx=samplex.reshape(len(sample))\n",
    "    j=0\n",
    "    for i in range(0,len(sample)-h):\n",
    "        matrix_x[i,0:p+q+2]=np.hstack(([1],array[j:j+p],arrayx[j:j+q+1]))\n",
    "        j+=1  \n",
    "    matrix_y=np.array(array[h:len(sample)])\n",
    "    matrix_y=matrix_y.reshape(len(sample)-h,1)\n",
    "    #系数的表达式：A=(X^TX)^-1 X^T Y\n",
    "    coef=np.dot(np.dot(np.linalg.inv(np.dot(matrix_x.T,matrix_x)),matrix_x.T),matrix_y)\n",
    "    return coef\n",
    "\n",
    "print(ARDLpq_estimation(np.array(r20),np.array(rs),0,0))\n",
    "print(ARDLpq_estimation(np.array(rs),np.array(r20),0,0))\n",
    "coe1=ARDLpq_estimation(np.array(r20),np.array(rs),0,0)\n",
    "coe2=ARDLpq_estimation(np.array(rs),np.array(r20),0,0)\n",
    "\n",
    "e1=[]\n",
    "e2=[]\n",
    "for i in range(len(r20)):\n",
    "    e1.append(r20[i]-coe1[0][0]-coe1[1][0]*rs[i])\n",
    "    e2.append(rs[i]-coe2[0][0]-coe2[1][0]*r20[i])"
   ]
  },
  {
   "cell_type": "markdown",
   "metadata": {},
   "source": [
    "估计得到：\n",
    "\n",
    "$R20_t=0.798RS_t+2.437$\n",
    "\n",
    "$RS_t=0.974R20_t-1.005$\n",
    "\n",
    "这是可以看作r20和rs之间相互作用的关系，它们对彼此都有一个正向的影响。下面我们估计它们扰动项之间的关系。"
   ]
  },
  {
   "cell_type": "code",
   "execution_count": 4,
   "metadata": {},
   "outputs": [
    {
     "name": "stdout",
     "output_type": "stream",
     "text": [
      "[[-0.20532301]\n",
      " [ 1.17930216]]\n",
      "[[-0.22632381]\n",
      " [ 1.19495008]]\n"
     ]
    }
   ],
   "source": [
    "def ar_estimation(sample,p):   #AR模型OLS\n",
    "    matrix_x=np.zeros((len(sample)-p,p))  \n",
    "    array=sample.reshape(len(sample))  \n",
    "    j=0\n",
    "    for i in range(0,len(sample)-p):\n",
    "        matrix_x[i,0:p]=array[j:j+p]  \n",
    "        j+=1  \n",
    "    matrix_y=np.array(array[p:len(sample)])\n",
    "    matrix_y=matrix_y.reshape(len(sample)-p,1)\n",
    "    #AR系数的表达式：A=(X^TX)^-1 X^T Y\n",
    "    coef=np.dot(np.dot(np.linalg.inv(np.dot(matrix_x.T,matrix_x)),matrix_x.T),matrix_y)\n",
    "    return coef\n",
    "ar1=ar_estimation(np.array(e1),2)\n",
    "ar2=ar_estimation(np.array(e2),2)\n",
    "print(ar1)\n",
    "print(ar2)"
   ]
  },
  {
   "cell_type": "markdown",
   "metadata": {},
   "source": [
    "算出ADF类型回归如下：\n",
    "\n",
    "$e_{1,t}=1.179e_{1,t-1}-0.205e_{1,t-2}$\n",
    "\n",
    "$e_{2,t}=1.194e_{2,t-1}-0.226e_{2,t-2}$\n"
   ]
  },
  {
   "cell_type": "markdown",
   "metadata": {},
   "source": [
    "根据扰动项之间的关系，我们可以计算Engle-Granger统计量如下："
   ]
  },
  {
   "cell_type": "code",
   "execution_count": 5,
   "metadata": {},
   "outputs": [
    {
     "name": "stdout",
     "output_type": "stream",
     "text": [
      "EG1= -3.531038103670464\n",
      "EG2= -3.9090859298860043\n"
     ]
    }
   ],
   "source": [
    "from math import sqrt\n",
    "def getPhi(series): \n",
    "    T=len(series)\n",
    "    sum1=0\n",
    "    sum2=0\n",
    "    for i in range(0,T-1):\n",
    "        sum1+=series[i]*series[i+1]\n",
    "    for i in range(0,T):\n",
    "        sum2+=series[i]**2\n",
    "    Phi_t=sum1/sum2\n",
    "    return Phi_t\n",
    "\n",
    "def getST(series):\n",
    "    T=len(series)\n",
    "    Phi=getPhi(series)\n",
    "    ST=0\n",
    "    for i in range(1,T):\n",
    "        ST+=(series[i]-Phi*series[i-1])**2\n",
    "    return ST/(T-1)\n",
    "\n",
    "def getSIG(series):\n",
    "    T=len(series)\n",
    "    ST=getST(series)\n",
    "    sum3=0\n",
    "    for i in range(0,T):\n",
    "        sum3+=series[i]**2\n",
    "    SIGMA=sqrt(ST/sum3)\n",
    "    return SIGMA\n",
    "\n",
    "def getT(series):\n",
    "    Phi=getPhi(series)\n",
    "    SIGMA=getSIG(series)\n",
    "    t_test=(Phi-1)/SIGMA\n",
    "    return t_test\n",
    "\n",
    "print('EG1=',-0.026/getSIG(e1))\n",
    "print('EG2=',-0.031/getSIG(e2))"
   ]
  },
  {
   "cell_type": "markdown",
   "metadata": {},
   "source": [
    "上述统计量的p值分别为0.017和0.004，因此拒绝了原假设：r20和rs是不协整的。"
   ]
  },
  {
   "cell_type": "markdown",
   "metadata": {},
   "source": [
    "但是另一方面，我们可以计算two bounds tests。使用ARDL(2,1)模型拟合$\\Delta RS_t$："
   ]
  },
  {
   "cell_type": "code",
   "execution_count": 6,
   "metadata": {},
   "outputs": [
    {
     "name": "stdout",
     "output_type": "stream",
     "text": [
      "修正前参数： [[0.21569682]\n",
      " [0.26862457]]\n",
      "修正后参数： [[ 0.22659205]\n",
      " [ 0.26568136]\n",
      " [-0.01171043]]\n",
      "T统计量： -6.306824104975785\n"
     ]
    }
   ],
   "source": [
    "#公共函数：差分\n",
    "def delta_serie(vector):\n",
    "    ret=[]\n",
    "    for i in range(1,len(vector)):\n",
    "        ret.append(vector[i]-vector[i-1])\n",
    "    return ret\n",
    "\n",
    "dr20=delta_serie(r20)\n",
    "drs=delta_serie(rs)\n",
    "\n",
    "\n",
    "def ARDLpqr_estimation(sample,samplex,samplee,p,q,r):\n",
    "    if len(sample)!=len(samplex):\n",
    "        print('Wrong!')\n",
    "        return\n",
    "    h=max(p,q,r)\n",
    "    matrix_x=np.zeros((len(sample)-h,p+q+r+2))  \n",
    "    array=sample.reshape(len(sample))\n",
    "    arrayx=samplex.reshape(len(sample))\n",
    "    arraye=samplee.reshape(len(sample))\n",
    "    j=0\n",
    "    for i in range(0,len(sample)-h):\n",
    "        matrix_x[i,0:p+q+r+2]=np.hstack((array[j:j+p],arrayx[j:j+q+1],arraye[j:j+r+1]))\n",
    "        j+=1  \n",
    "    matrix_y=np.array(array[h:len(sample)])\n",
    "    matrix_y=matrix_y.reshape(len(sample)-h,1)\n",
    "    #系数的表达式：A=(X^TX)^-1 X^T Y\n",
    "    coef=np.dot(np.dot(np.linalg.inv(np.dot(matrix_x.T,matrix_x)),matrix_x.T),matrix_y)\n",
    "    return coef\n",
    "\n",
    "print('修正前参数：',ARDLpq_estimation(np.array(drs),np.array(dr20),1,0))\n",
    "coef=ARDLpq_estimation(np.array(drs),np.array(dr20),1,0)\n",
    "ec=[]\n",
    "for i in range(len(dr20)):\n",
    "    ec.append(drs[i]-coef[0][0]*drs[i-1]-coef[1][0]*dr20[i])\n",
    "print('修正后参数：',ARDLpqr_estimation(np.array(drs),np.array(dr20),np.array(ec),1,0,0))\n",
    "print('T统计量：',-0.215/getSIG(drs))"
   ]
  },
  {
   "cell_type": "markdown",
   "metadata": {},
   "source": [
    "加入误差项ec修正后：\n",
    "\n",
    "$\\Delta RS_t=-0.01ec_{t-1}+0.215\\Delta RS_{t-1}+0.268\\Delta R20_{t}$\n",
    "\n",
    "且T统计量远小于1%置信区间的水平，因此拒绝“时间序列不协整”的原假设。"
   ]
  },
  {
   "cell_type": "markdown",
   "metadata": {},
   "source": [
    "在拟合$\\Delta R20_t$时，我们选取了ARDL(3,2)模型："
   ]
  },
  {
   "cell_type": "code",
   "execution_count": 7,
   "metadata": {},
   "outputs": [
    {
     "name": "stdout",
     "output_type": "stream",
     "text": [
      "修正前参数： [[-0.14024634]\n",
      " [ 0.31332406]\n",
      " [ 0.0223528 ]\n",
      " [-0.01194279]]\n",
      "修正后参数： [[ 0.03378207]\n",
      " [ 0.21783074]\n",
      " [-0.10835104]\n",
      " [ 0.2776333 ]\n",
      " [ 0.04377165]]\n",
      "T统计量： -6.689913287316613\n"
     ]
    }
   ],
   "source": [
    "print('修正前参数：',ARDLpq_estimation(np.array(dr20),np.array(drs),2,1))\n",
    "coef=ARDLpq_estimation(np.array(drs),np.array(dr20),2,1)\n",
    "ec=[]\n",
    "for i in range(len(dr20)):\n",
    "    ec.append(dr20[i]-coef[0][0]*dr20[i-2]-coef[1][0]*dr20[i-1]-coef[2][0]*drs[i-1]-coef[3][0]*drs[i])\n",
    "coef0=ARDLpqr_estimation(np.array(drs),np.array(dr20),np.array(ec),2,1,0)\n",
    "print('修正后参数：',coef0)\n",
    "print('T统计量：',-0.230/getSIG(dr20))"
   ]
  },
  {
   "cell_type": "markdown",
   "metadata": {},
   "source": [
    "估计结果为：$\\Delta R20_t=0.04ec_{t-1}+0.217\\Delta R20_{t-1}-0.033\\Delta R20_{t-2}+0.277\\Delta RS_t-0.108\\Delta RS_{t-1}$，\n",
    "\n",
    "且T统计量远小于1%置信区间的水平，因此拒绝“时间序列不协整”的原假设。"
   ]
  },
  {
   "cell_type": "markdown",
   "metadata": {},
   "source": [
    "## Example 14.2"
   ]
  },
  {
   "cell_type": "markdown",
   "metadata": {},
   "source": [
    "在上一个例子中，我们已经用最小二乘法估计出了：\n",
    "\n",
    "$R20_t=0.798RS_t+2.437$\n",
    "\n",
    "$RS_t=0.974R20_t-1.005$"
   ]
  },
  {
   "cell_type": "code",
   "execution_count": 8,
   "metadata": {},
   "outputs": [
    {
     "name": "stdout",
     "output_type": "stream",
     "text": [
      "[[1.73783076]\n",
      " [0.88386158]\n",
      " [1.        ]]\n",
      "[[-0.7051785 ]\n",
      " [ 0.92429384]\n",
      " [ 1.        ]]\n"
     ]
    }
   ],
   "source": [
    "coe1=ARDLpq_estimation(np.array(r20),np.array(rs),0,0)\n",
    "coe2=ARDLpq_estimation(np.array(rs),np.array(r20),0,0)\n",
    "\n",
    "e1=[]\n",
    "e2=[]\n",
    "for i in range(len(r20)):\n",
    "    e1.append(r20[i]-coe1[0][0]-(coe1[1][0]+0.085)*rs[i]+0.7)\n",
    "    e2.append(rs[i]-coe2[0][0]-(coe2[1][0]-0.05)*r20[i]-0.3)\n",
    "coef0=ARDLpqr_estimation(np.array(r20),np.array(rs),np.array(e1),0,0,0)\n",
    "coef1=ARDLpqr_estimation(np.array(rs),np.array(r20),np.array(e2),0,0,0)\n",
    "print(coef0)\n",
    "print(coef1)"
   ]
  },
  {
   "cell_type": "markdown",
   "metadata": {},
   "source": [
    "修偏后，FM-OLS估计结果为：\n",
    "\n",
    "$R20_t=0.883RS_t+1.737$\n",
    "\n",
    "$RS_t=0.924R20_t-0.705$"
   ]
  },
  {
   "cell_type": "code",
   "execution_count": 11,
   "metadata": {},
   "outputs": [
    {
     "name": "stdout",
     "output_type": "stream",
     "text": [
      "[[2.37945221]\n",
      " [0.80795248]\n",
      " [0.43691308]\n",
      " [0.57542839]\n",
      " [0.36136052]]\n",
      "[[-0.97008012]\n",
      " [ 0.9695064 ]\n",
      " [ 0.76285064]\n",
      " [ 0.70480188]\n",
      " [-0.4028978 ]]\n"
     ]
    }
   ],
   "source": [
    "drsc=[]\n",
    "for i in range(len(drs)):\n",
    "    drsc.append(drs[i])\n",
    "dr20c=[]\n",
    "for i in range(len(dr20)):\n",
    "    dr20c.append(drs[i])\n",
    "    \n",
    "drsc.append(drs[-1])\n",
    "dr20c.append(dr20[-1])\n",
    "coef0=ARDLpqr_estimation(np.array(r20),np.array(rs),np.array(drsc),0,0,2)\n",
    "print(coef0)\n",
    "coef1=ARDLpqr_estimation(np.array(rs),np.array(r20),np.array(dr20c),0,0,2)\n",
    "print(coef1)"
   ]
  },
  {
   "cell_type": "markdown",
   "metadata": {},
   "source": [
    "DOLS估计结果：\n",
    "\n",
    "$R20_t=2.379+0.808RS_t+\\sum_{i=-1}^{1}\\delta_i \\Delta  RS_{t-i}+e_{1,t}$\n",
    "\n",
    "$RS_t=-0.970+0.969RS_t+\\sum_{i=-1}^{1}\\delta_i \\Delta  R20_{t-i}+e_{2,t}$"
   ]
  },
  {
   "cell_type": "code",
   "execution_count": 27,
   "metadata": {},
   "outputs": [
    {
     "name": "stdout",
     "output_type": "stream",
     "text": [
      "[[-0.03175581]\n",
      " [ 0.20209295]\n",
      " [ 0.2822323 ]\n",
      " [ 0.02650599]]\n",
      "sigma_a for drs: 0.40433555958828454\n",
      "[[ 0.01301847]\n",
      " [ 0.19861514]\n",
      " [-0.08022648]\n",
      " [ 0.3018724 ]\n",
      " [-0.01290552]]\n",
      "sigma_a for dr20: 0.255258535075979\n"
     ]
    }
   ],
   "source": [
    "spr=[]\n",
    "for i in range(len(spread)-1):\n",
    "    spr.append(spread[i])\n",
    "    \n",
    "coefs0=ARDLpqr_estimation(np.array(drs),np.array(dr20),np.array(spr),1,0,0)\n",
    "print(coefs0)\n",
    "sum1=1\n",
    "for item in coefs0:\n",
    "    sum1*=(item[0]**2+1)\n",
    "print('sigma_a for drs:',np.std(drs)/sum1)\n",
    "\n",
    "coefs1=ARDLpqr_estimation(np.array(dr20),np.array(drs),np.array(spr),1,1,0)\n",
    "print(coefs1)\n",
    "sum2=1\n",
    "for item in coefs1:\n",
    "    sum2*=(item[0]**2+1)\n",
    "print('sigma_a for dr20:',np.std(dr20)/sum2)"
   ]
  },
  {
   "cell_type": "markdown",
   "metadata": {},
   "source": [
    "估计结果为：\n",
    "\n",
    "$\\Delta R20_t = 0.013+0.198\\Delta R20_{t-1}+0.301\\Delta RS_t-0.080\\Delta RS_{t-1}-0.013 SPREAD_{t-1}, \\sigma_a=0.255$\n",
    "\n",
    "$\\Delta RS_t=-0.031+0.202\\Delta RS_{t-1}+0.282\\Delta R20_{t}+0.026 SPREAD_{t-1}, \\sigma_a=0.404$"
   ]
  },
  {
   "cell_type": "markdown",
   "metadata": {},
   "source": [
    "## Example 14.3"
   ]
  },
  {
   "cell_type": "code",
   "execution_count": 28,
   "metadata": {},
   "outputs": [],
   "source": [
    "# 读入数据\n",
    "amo=np.read_csv(\"amo.csv\")['amo']\n",
    "soi=np.read_csv(\"soi.csv\")['soi']\n",
    "temp=np.read_csv(\"temp.csv\")['temp']\n",
    "trf=np.read_csv(\"trf.csv\")['trf']\n",
    "volc=np.read_csv(\"volc.csv\")['volc']"
   ]
  },
  {
   "cell_type": "markdown",
   "metadata": {},
   "source": [
    "用类似12.3中的ARDL(0,0,0,0,0)估计："
   ]
  },
  {
   "cell_type": "code",
   "execution_count": 30,
   "metadata": {},
   "outputs": [
    {
     "name": "stdout",
     "output_type": "stream",
     "text": [
      "[[-0.0938066 ]\n",
      " [ 0.40159036]\n",
      " [ 0.0566122 ]\n",
      " [-0.31754312]\n",
      " [ 0.4510861 ]]\n"
     ]
    }
   ],
   "source": [
    "def ARDLpqabc_estimation(sample,samplex1,samplex2,samplex3,samplex4,p,q,a,b,c):\n",
    "    h=max(p,q,a,b,c)\n",
    "    matrix_x=np.zeros((len(sample)-h,p+q+a+b+c+5))  \n",
    "    array=sample.reshape(len(sample))\n",
    "    arrayx1=samplex1.reshape(len(sample))\n",
    "    arrayx2=samplex2.reshape(len(samplex2))\n",
    "    arrayx3=samplex3.reshape(len(samplex3))\n",
    "    arrayx4=samplex4.reshape(len(samplex4))\n",
    "    j=0\n",
    "    for i in range(0,len(sample)-h):\n",
    "        matrix_x[i,0:p+q+a+b+c+5]=np.hstack(([1],array[j:j+p],arrayx1[j:j+q+1],arrayx2[j:j+a+1],arrayx3[j:j+b+1],arrayx4[j:j+c+1]))\n",
    "        j+=1  \n",
    "    matrix_y=np.array(array[h:len(sample)])\n",
    "    matrix_y=matrix_y.reshape(len(sample)-h,1)\n",
    "    #系数的表达式：A=(X^TX)^-1 X^T Y\n",
    "    coef=np.dot(np.dot(np.linalg.inv(np.dot(matrix_x.T,matrix_x)),matrix_x.T),matrix_y)\n",
    "    return coef\n",
    "paras=ARDLpqabc_estimation(np.array(temp),np.array(trf),np.array(volc),np.array(soi),np.array(amo),0,0,0,0,0)\n",
    "print(paras)\n",
    "paras=ARDLpqabc_estimation(np.array(temp),np.array(trf),np.array(volc),np.array(soi),np.array(amo),0,0,0,0,0)\n",
    "print(paras)"
   ]
  },
  {
   "cell_type": "markdown",
   "metadata": {},
   "source": [
    "估计结果为：\n",
    "\n",
    "$TEMP_t=-0.09+0.401TRF_t+0.056VOLC_t-0.317SOI_t+0.451AMO_t$\n",
    "\n",
    "也即：\n",
    "\n",
    "$ec_t=TEMP_t+0.09-0.401TRF_t-0.056VOLC_t+0.317SOI_t-0.451AMO_t$"
   ]
  }
 ],
 "metadata": {
  "kernelspec": {
   "display_name": "Python 3",
   "language": "python",
   "name": "python3"
  },
  "language_info": {
   "codemirror_mode": {
    "name": "ipython",
    "version": 3
   },
   "file_extension": ".py",
   "mimetype": "text/x-python",
   "name": "python",
   "nbconvert_exporter": "python",
   "pygments_lexer": "ipython3",
   "version": "3.6.10"
  },
  "pycharm": {
   "stem_cell": {
    "cell_type": "raw",
    "metadata": {
     "collapsed": false
    },
    "source": []
   }
  }
 },
 "nbformat": 4,
 "nbformat_minor": 1
}
