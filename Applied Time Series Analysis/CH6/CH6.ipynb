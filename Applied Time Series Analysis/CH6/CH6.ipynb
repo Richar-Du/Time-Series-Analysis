{
 "cells": [
  {
   "cell_type": "markdown",
   "source": [
    "## Breaking and Nonlinear Trends"
   ],
   "metadata": {
    "collapsed": false,
    "pycharm": {
     "name": "#%% md\n"
    }
   }
  },
  {
   "cell_type": "markdown",
   "metadata": {
    "collapsed": true
   },
   "source": [
    "### Example 6.1"
   ]
  },
  {
   "cell_type": "code",
   "execution_count": 1,
   "outputs": [],
   "source": [
    "# 导入需要的第三方包\n",
    "import numpy as np\n",
    "import pandas as pd\n",
    "from statsmodels.graphics.tsaplots import plot_acf, plot_pacf\n",
    "import statsmodels\n",
    "from statsmodels.tsa.ar_model import AutoReg\n",
    "import statsmodels.tsa.api as smt\n",
    "import matplotlib.pyplot as plt\n",
    "from scipy import stats\n",
    "import statsmodels.api as sm\n",
    "from math import log"
   ],
   "metadata": {
    "collapsed": false,
    "pycharm": {
     "name": "#%% \n",
     "is_executing": false
    }
   }
  },
  {
   "cell_type": "markdown",
   "source": [
    "读入数据并作图查看"
   ],
   "metadata": {
    "collapsed": false,
    "pycharm": {
     "name": "#%% md\n"
    }
   }
  },
  {
   "cell_type": "code",
   "execution_count": 5,
   "metadata": {
    "pycharm": {
     "is_executing": false
    }
   },
   "outputs": [
    {
     "data": {
      "text/plain": "<Figure size 432x288 with 1 Axes>",
      "image/png": "[encoded data removed]"
     },
     "metadata": {
      "needs_background": "light"
     },
     "output_type": "display_data"
    }
   ],
   "source": [
    "oil=pd.read_csv(\"D:/anaconda3/envs/python36/TimeSeries/CH6/oil.csv\")['price']\n",
    "plt.plot(oil,'r')\n",
    "plt.show()"
   ]
  },
  {
   "cell_type": "markdown",
   "metadata": {},
   "source": [
    "Perron测试程序中的一个关键假设是，假定中断日期Tcb是已知的，或者由外部确定了导致趋势中断的冲击。 佩隆研究的是20世纪的美国经济，他假设发生了两次外部经济冲击，即1929年的股市大崩溃和1973年的油价冲击。\n",
    "图6.3表明：在1871年至2016年期间，标普500指数每年都以$x_t^c$的形式出现突破趋势，并叠加有$T_b^c=59$ （1929），这清楚地表明了带断点的TS过程可以充分模拟该指数的演变。"
   ]
  },
  {
   "cell_type": "code",
   "execution_count": 6,
   "metadata": {
    "pycharm": {
     "is_executing": false
    }
   },
   "outputs": [
    {
     "name": "stdout",
     "text": [
      "[[ 0.30791207]\n",
      " [-0.19232174]\n",
      " [ 0.00543688]\n",
      " [ 0.01143694]\n",
      " [ 0.38249072]\n",
      " [-0.12713068]\n",
      " [ 0.88411107]]\n"
     ],
     "output_type": "stream"
    },
    {
     "data": {
      "text/plain": "<Figure size 432x288 with 1 Axes>",
      "image/png": "[encoded data removed]"
     },
     "metadata": {
      "needs_background": "light"
     },
     "output_type": "display_data"
    }
   ],
   "source": [
    "Tbc_61=59 #间断点的位置已知\n",
    "T=len(oil)\n",
    "tao_c=Tbc_61/T\n",
    "#用最小二乘法估计趋势平稳的时间序列\n",
    "#以下函数估计出的参数依次为beta0,beta1,phip，phi_{p-1},...,phi2,phi1\n",
    "def DU(x,Tbc):\n",
    "    if x<=Tbc:\n",
    "        return 0\n",
    "    else:\n",
    "        return 1\n",
    "\n",
    "def DT(x,Tbc):\n",
    "    if x<=Tbc:\n",
    "        return 0\n",
    "    else:\n",
    "        return x-Tbc\n",
    "\n",
    "def Dummy(x,Tbc):\n",
    "    if x==Tbc:\n",
    "        return 1\n",
    "    else:\n",
    "        return 0\n",
    "   \n",
    "#以下函数估计出的参数依次为beta0,beta1,phip，phi_{p-1},...,phi2,phi1\n",
    "def estimate_TD(sample,p):  \n",
    "    matrix_x=np.zeros((len(sample)-p,p+2))  \n",
    "    array=sample.reshape(len(sample))  #array是样本全体\n",
    "    j=0\n",
    "    for i in range(0,len(sample)-p):\n",
    "        matrix_x[i,0:p+2]=np.hstack((np.array([1,p+i+1]),array[j:j+p]))\n",
    "        j+=1  \n",
    "    #在原有AR的OLS方法基础上加上beta0+beta1*t这一项\n",
    "    matrix_y=np.array(array[p:len(sample)])\n",
    "    matrix_y=matrix_y.reshape(len(sample)-p,1)\n",
    "    #所有系数的表达式：A=(X^TX)^-1 X^T Y\n",
    "    coef=np.dot(np.dot(np.linalg.inv(np.dot(matrix_x.T,matrix_x)),matrix_x.T),matrix_y)\n",
    "    return coef\n",
    "\n",
    "\n",
    "def estimate_Break(sample,p,Tbc):  \n",
    "    matrix_x=np.zeros((len(sample)-p,p+5))  \n",
    "    array=sample.reshape(len(sample))  #array是样本全体\n",
    "    j=0\n",
    "    for i in range(0,len(sample)-p):\n",
    "        matrix_x[i,0:p+5]=np.hstack((np.array([1,DU(p+i+1,Tbc),p+i+1,DT(p+i+1,Tbc),Dummy(p+i+1,Tbc)]),array[j:j+p]))\n",
    "        j+=1  \n",
    "    #在原有AR的OLS方法基础上加上beta0+beta1*t这一项\n",
    "    matrix_y=np.array(array[p:len(sample)])\n",
    "    matrix_y=matrix_y.reshape(len(sample)-p,1)\n",
    "    #所有系数的表达式：A=(X^TX)^-1 X^T Y\n",
    "    coef=np.dot(np.dot(np.linalg.inv(np.dot(matrix_x.T,matrix_x)),matrix_x.T),matrix_y)\n",
    "    return coef\n",
    "oil1=oil[0:59]\n",
    "oil2=oil[59:len(oil)]\n",
    "para=estimate_Break(np.array(oil),2,59)\n",
    "#para2=estimate_TD(np.array(oil2),2)\n",
    "#print(para1)\n",
    "print(para)\n",
    "\n",
    "b0=para[0][0]\n",
    "b01=para[1][0]\n",
    "b1=para[2][0]\n",
    "b11=para[3][0]\n",
    "d=para[4][0]\n",
    "phi2=para[5][0]\n",
    "phi1=para[6][0]\n",
    "trend=[0]*2\n",
    "trend[0]=oil[0]\n",
    "trend[1]=oil[1]\n",
    "for i in range(2,len(oil)):\n",
    "    trend.append(i*b1+b0+b01*DU(i,59)+b11*DT(i,59)+d*Dummy(i,59)+phi1*trend[i-1]+phi2*trend[i-2])\n",
    "plt.plot(trend,'r--')\n",
    "plt.plot(oil)\n",
    "plt.title('the log of oil')\n",
    "plt.show()"
   ]
  },
  {
   "cell_type": "markdown",
   "metadata": {},
   "source": [
    "下面为检验参数估计的合理性，进行显著性检验。\n"
   ]
  },
  {
   "cell_type": "code",
   "execution_count": 3,
   "metadata": {},
   "outputs": [
    {
     "name": "stdout",
     "output_type": "stream",
     "text": [
      "-11.508091221993094\n"
     ]
    }
   ],
   "source": [
    "from math import sqrt\n",
    "\n",
    "def getST(series,Phi):\n",
    "    T=len(series)\n",
    "    ST=0\n",
    "    for i in range(1,T):\n",
    "        ST+=(series[i]-Phi*series[i-1])**2\n",
    "    return ST/(T-1)\n",
    "\n",
    "def getSIG(series,Phi):\n",
    "    T=len(series)\n",
    "    ST=getST(series,Phi)\n",
    "    sum3=0\n",
    "    for i in range(0,T):\n",
    "        sum3+=series[i]**2\n",
    "    SIGMA=sqrt(ST/sum3)\n",
    "    return SIGMA\n",
    "\n",
    "def getT(series,Phi):\n",
    "    SIGMA=getSIG(series,Phi)\n",
    "    t_test=(Phi-1)/SIGMA\n",
    "    return t_test\n",
    "\n",
    "print(getT(oil,0.757))"
   ]
  },
  {
   "cell_type": "markdown",
   "metadata": {},
   "source": [
    "对应的t统计量计算为-11.5，而1%显著性水平对应的数值为$\\tau^C=\\frac{T_b^c}{T}=0.4$，因此可以认定该例中数据可以使用带断点的TS拟合。"
   ]
  },
  {
   "cell_type": "code",
   "execution_count": 9,
   "metadata": {
    "pycharm": {
     "is_executing": false
    }
   },
   "outputs": [
    {
     "data": {
      "text/plain": "<Figure size 432x288 with 1 Axes>",
      "image/png": "[encoded data removed]"
     },
     "metadata": {
      "needs_background": "light"
     },
     "output_type": "display_data"
    }
   ],
   "source": [
    "GNP=pd.read_csv(\"D:/anaconda3/envs/python36/TimeSeries/CH6/GNP.csv\")['gnp']\n",
    "plt.plot(GNP,'r')\n",
    "plt.show()\n",
    "# 间断点位置\n",
    "Tbc_612=105"
   ]
  },
  {
   "cell_type": "markdown",
   "metadata": {},
   "source": [
    "此处断点前趋势增长率为每季度1.0％，而断点后趋势增长率降至0.7％。\n",
    "\n",
    "用和估计原油同样的方法可以对GNP曲线进行带断点的模型参数估计。"
   ]
  },
  {
   "cell_type": "code",
   "execution_count": 10,
   "metadata": {
    "pycharm": {
     "is_executing": false
    }
   },
   "outputs": [
    {
     "name": "stdout",
     "text": [
      "[[16.03760181]\n",
      " [ 8.34871689]\n",
      " [80.98397489]\n",
      " [-0.33097008]\n",
      " [ 1.33284211]]\n"
     ],
     "output_type": "stream"
    }
   ],
   "source": [
    "def estimate_A(sample,p,Tbc):  \n",
    "    matrix_x=np.zeros((len(sample)-p,p+3))  \n",
    "    array=sample.reshape(len(sample))  #array是样本全体\n",
    "    j=0\n",
    "    for i in range(0,len(sample)-p):\n",
    "        matrix_x[i,0:p+3]=np.hstack((np.array([1,DU(p+i+1,Tbc),Dummy(p+i+1,Tbc)]),array[j:j+p]))\n",
    "        j+=1  \n",
    "    matrix_y=np.array(array[p:len(sample)])\n",
    "    matrix_y=matrix_y.reshape(len(sample)-p,1)\n",
    "    coef=np.dot(np.dot(np.linalg.inv(np.dot(matrix_x.T,matrix_x)),matrix_x.T),matrix_y)\n",
    "    return coef\n",
    "para_2=estimate_A(np.array(GNP),2,105)\n",
    "print(estimate_A(np.array(GNP),2,105))"
   ]
  },
  {
   "cell_type": "markdown",
   "metadata": {},
   "source": [
    "最终得到的结果：\n",
    "\n",
    "$\\Delta x_t=-0.034 DU_t^c+\\epsilon_t$\n",
    "\n",
    "$\\epsilon_t=0.350\\epsilon_{t-1}+a_t$"
   ]
  },
  {
   "cell_type": "code",
   "execution_count": 11,
   "metadata": {
    "pycharm": {
     "is_executing": false
    }
   },
   "outputs": [
    {
     "data": {
      "text/plain": "<Figure size 432x288 with 1 Axes>",
      "image/png": "[encoded data removed]"
     },
     "metadata": {
      "needs_background": "light"
     },
     "output_type": "display_data"
    }
   ],
   "source": [
    "p1=para_2[0][0]\n",
    "p2=para_2[1][0]\n",
    "p3=para_2[2][0]\n",
    "p4=para_2[3][0]\n",
    "p5=para_2[4][0]\n",
    "trend1=[0]*2\n",
    "trend1[0]=GNP[0]\n",
    "trend1[1]=GNP[1]\n",
    "for i in range(2,len(GNP)):\n",
    "    trend1.append(p1+p2*DU(i,105)+p3*Dummy(i,105)+p5*trend1[i-1]+p4*trend1[i-2])\n",
    "plt.plot(GNP)\n",
    "plt.plot(trend1,'r--')\n",
    "plt.title('GNP and its trend')\n",
    "plt.show()"
   ]
  },
  {
   "cell_type": "markdown",
   "metadata": {},
   "source": [
    "### Example 6.2"
   ]
  },
  {
   "cell_type": "markdown",
   "metadata": {},
   "source": [
    "选择SP 500指数的断点的最小单位根方法确实选择了1929年，它的DF统计量为25.11，边际显着性水平为0.06。\n",
    " \n",
    "如果最大化中断参数的显著性，同样也会选择1929年。"
   ]
  },
  {
   "cell_type": "code",
   "execution_count": 12,
   "metadata": {
    "pycharm": {
     "is_executing": false
    }
   },
   "outputs": [
    {
     "name": "stdout",
     "text": [
      "[997676505.5528852, 977801180.0575576, 958197365.5775433, 938861837.2095954, 919788520.9828293, 900973420.1597862, 882412153.38496, 864108032.2810392, 846063276.8916205, 828274580.4811928, 810753986.945683, 793496011.3790627, 776498510.4099281, 759751784.7071929, 743252132.234372, 726998770.0489593, 710988506.6897272, 695213620.1858741, 679674700.9234724, 664368460.2437577, 649297321.3459421, 634466066.5790297, 619865112.3128815, 605486695.1647567, 591323516.004794, 577373319.653049, 563640949.1061308, 550128893.0967854, 536840724.133605, 523778206.22205144, 510940405.1516885, 498319326.2838833, 485910752.6542731, 473709183.2869718, 461710834.08481354, 449918604.8398087, 438329135.8599435, 426946286.0568945, 415763942.84308004, 404777495.51331997, 393987609.07779604, 383384138.535894, 372966401.1794732, 362749909.12953436, 352739371.33302546, 342931964.4903597, 333323198.3786757, 323910217.83119005, 314681017.0608398, 305638604.1208399, 296785849.6763748, 288109992.1552133, 279612245.3101543, 271288554.52162474, 263148626.2384787, 255195760.98839054, 247427630.56555536, 239843152.22763097, 232437925.16852903, 225206490.06966388, 218146035.90725356, 211253994.07587036, 204532510.57537568, 197981651.34560052, 191601715.26421854, 185386376.7956081, 179340033.21071395, 173455031.5026501, 167730174.18219522, 162161433.10572404, 156758095.2982824, 151512430.83452633, 146426139.87106696, 141497913.34586045, 136722691.55764547, 132086377.82830887, 127589965.58275743, 123233074.36971168, 119013432.52785905, 114926472.40769991, 110977177.38001879, 107165362.22872944, 103496095.22259076, 99962814.2264283, 96557225.63035704, 93277686.16912101, 90127742.85825305, 87097281.05936362, 84185637.49174355, 81386020.51803312, 78701436.51885425, 76134865.7596475, 73688159.85534047, 71354028.91185206, 69153985.67107539, 67070795.28210757, 65104455.43996421, 63254723.80918672, 61531373.66812836, 59933072.45925191, 58449602.98449418, 57085162.12704807, 55839875.55426986, 54697204.64747027, 53645764.27708016, 52692378.99614684, 51824974.1066658, 51048013.87975215, 50352968.66176217, 49745124.892491035, 49225032.65046744, 48812116.87678931, 48511874.844288565, 48321165.908479385, 48239820.65747751, 48253697.80897325, 48360783.51200441, 48564038.64778768, 48867659.122219265, 49273295.270283245, 49773152.76971461, 50353262.23286619, 51025107.90128085, 51807483.16545324, 52673193.946746394, 53620932.63139637, 54638040.48381991, 55725647.854367375, 56887123.03824555, 58113583.36783729, 59400708.03071676, 60733192.83595669, 62136777.82796105, 63627241.32429006, 65199487.33503505, 66827749.630012274, 68524840.65069251, 70268594.75999193, 72061113.12502529, 73924601.02160063, 75850439.39033325, 77849722.29344548, 79936388.4433668, 82117180.12526004, 84385658.71173918, 86739262.26170515, 89171861.83558203, 91676538.34587443, 94242168.69837953, 96865174.76473829, 99546603.93490736, 102287689.82210019, 105089891.0648683, 107944259.26362565, 110848786.9145649, 113798458.37989682, 116799269.8115991, 119844097.69275315, 122937987.19691718, 126084471.0471469, 129280230.76556571, 132529554.08633411, 135819793.78088182, 139155031.64907798, 142527200.2380309, 145943773.1280464, 149397167.34592775, 152882741.90887746, 156398397.44144806, 159939146.48558903, 163510409.42109445, 167100130.10425162, 170700679.29508787, 174308501.8783271, 177928019.22197372, 181576250.48865443, 185251733.0567944, 188958153.93524545, 192701774.47989076, 196478838.79864287, 200285025.11511892, 204117375.21209392, 207966175.57889035, 211834963.66615447, 215726471.6114882, 219646991.88285163, 223594384.10184518, 227567099.3795682, 231554383.22003534, 235560193.14214736, 239573738.6736345, 243595105.17310533, 247629118.9094253, 251677944.94151232, 255741682.4907237, 259828723.26541173, 263925886.643576, 268034196.34098405, 272148551.6414658, 276279327.3101166, 280415338.95914537, 284548883.88354, 288684728.18271595, 292820062.6675598, 296958190.8627887, 301101063.6525724, 305233333.2719498, 309355415.4041908, 313472580.78580976, 317585740.73624694, 321670155.43301517, 325744621.82045734, 329775303.50572485, 333770028.1724189, 337710591.90796775, 341613044.5108266, 345463891.62385386, 349288114.16109174, 353077744.6209949, 356829877.2894538, 360547045.4742124, 364223796.07430726, 367868365.2284766, 371495076.0409295, 375109946.1342376, 378699727.6295592, 382248246.88601804, 385752924.8281175, 389220805.40401024, 392645969.64714044, 396035350.03387445, 399370629.42591137, 402658358.05684865, 405889066.65699434, 409073464.31974006, 412189314.2830884, 415236095.27478707, 418228863.30696124, 421155252.21958756, 424032648.7210243, 426856759.887499, 429608761.62496454, 432263076.2887142, 434840922.98983634, 437312312.30171233, 439645852.6287482, 441889694.06883264, 444079347.4174858, 446234404.45413935, 448355846.8607332, 450436365.4787633, 452481613.023503, 454481494.1114655, 456431999.0024212, 458317194.097738, 460159720.03132004, 461954747.888931, 463714670.5125878, 465420148.9103705, 467065469.8442521, 468646921.40853673, 470165895.5805752, 471636831.15152496, 473053981.22280467, 474427603.5584355, 475753350.22353774, 477010180.8402493, 478228036.9113023, 479407240.7602538, 480524839.88951766, 481580602.33079463, 482576198.99805516, 483506140.8793134, 484366316.26921326, 485151036.3250471, 485866886.8711674]\n"
     ],
     "output_type": "stream"
    }
   ],
   "source": [
    "#由自变量Tbc返回误差平方和的函数\n",
    "def optim_for_62(sample,p,Tbc):  \n",
    "    matrix_x=np.zeros((len(sample)-p,p+3))  \n",
    "    array=sample.reshape(len(sample))  #array是样本全体\n",
    "    j=0\n",
    "    for i in range(0,len(sample)-p):\n",
    "        matrix_x[i,0:p+3]=np.hstack((np.array([1,DU(p+i+1,Tbc),Dummy(p+i+1,Tbc)]),array[j:j+p]))\n",
    "        j+=1  \n",
    "    matrix_y=np.array(array[p:len(sample)])\n",
    "    matrix_y=matrix_y.reshape(len(sample)-p,1)\n",
    "    coef=np.dot(np.dot(np.linalg.inv(np.dot(matrix_x.T,matrix_x)),matrix_x.T),matrix_y)\n",
    "    p1=para_2[0][0]\n",
    "    p2=para_2[1][0]\n",
    "    p3=para_2[2][0]\n",
    "    p4=para_2[3][0]\n",
    "    p5=para_2[4][0]\n",
    "    Residual=0\n",
    "    trend1=[0]*2\n",
    "    trend1[0]=sample[0]\n",
    "    trend1[1]=sample[1]\n",
    "    for i in range(2,len(sample)):\n",
    "        trend1.append(p1+p2*DU(i,Tbc)+p3*Dummy(i,Tbc)+p5*trend1[i-1]+p4*trend1[i-2])\n",
    "    for i in range(len(sample)):\n",
    "        Residual+=(trend1[i]-sample[i])**2\n",
    "    return Residual\n",
    "\n",
    "#print(optim_for_62(np.array(GNP),2,136))\n",
    "#print(optim_for_62(np.array(GNP),2,104))\n",
    "#print(optim_for_62(np.array(GNP),2,10))\n",
    "optims=[]\n",
    "for j in range(3,len(GNP)-1):\n",
    "    optims.append(optim_for_62(np.array(GNP),2,j))\n",
    "def findmin(arr):\n",
    "    small=arr[0]\n",
    "    small_index=0\n",
    "    for i in range(1,len(arr)):\n",
    "        if arr[i]<small:\n",
    "            small=arr[i]\n",
    "            small_index=i\n",
    "    return small_index\n",
    "print(optims)"
   ]
  },
  {
   "cell_type": "markdown",
   "metadata": {},
   "source": [
    "### Example 6.3"
   ]
  },
  {
   "cell_type": "markdown",
   "metadata": {},
   "source": [
    "在Example 6.1中，我们用了具有1929年水平和趋势变化的带断点模型拟合了SP 500指数。\n",
    "\n",
    "这里，形式为（6.18）的等效LSTR模型可以拟合AR（2）过程的误差："
   ]
  },
  {
   "cell_type": "code",
   "execution_count": 13,
   "metadata": {
    "pycharm": {
     "is_executing": false
    }
   },
   "outputs": [],
   "source": [
    "from math import exp\n",
    "def LSTR(gamma,m,t,sample):\n",
    "    return 1/(1+exp(-gamma*(t-m*len(sample))))\n",
    "#最小二乘法估计\n",
    "def estimate_63(sample,p):  \n",
    "    g=0.685\n",
    "    m=0.507\n",
    "    matrix_x=np.zeros((len(sample)-p,p+4))  \n",
    "    array=sample.reshape(len(sample))  #array是样本全体\n",
    "    j=0\n",
    "    for i in range(0,len(sample)-p):\n",
    "        matrix_x[i,0:p+4]=np.hstack((np.array([1,p+i+1,LSTR(g,m,p+i+1,sample),(p+i+1)*LSTR(g,m,p+i+1,sample)]),array[j:j+p]))\n",
    "        j+=1  \n",
    "    matrix_y=np.array(array[p:len(sample)])\n",
    "    matrix_y=matrix_y.reshape(len(sample)-p,1)\n",
    "    coef=np.dot(np.dot(np.linalg.inv(np.dot(matrix_x.T,matrix_x)),matrix_x.T),matrix_y)\n",
    "    return coef\n",
    "para=estimate_63(np.array(oil),2)\n"
   ]
  },
  {
   "cell_type": "code",
   "execution_count": 14,
   "metadata": {
    "pycharm": {
     "is_executing": false
    }
   },
   "outputs": [
    {
     "name": "stdout",
     "text": [
      "(0.918081093188958, -0.1729359473036981, 1.3779590887770319, 0.01755863350633722, -3.6598856347095094, 0.051541177344668905)\n"
     ],
     "output_type": "stream"
    }
   ],
   "source": [
    "phi1=para[-1][0]\n",
    "phi2=para[-2][0]\n",
    "k=1-phi1-phi2\n",
    "beta0=para[0][0]/k\n",
    "beta1=para[1][0]/k\n",
    "gamma0=para[2][0]/k\n",
    "gamma1=para[3][0]/k\n",
    "print((phi1,phi2,beta0,beta1,gamma0,gamma1))"
   ]
  },
  {
   "cell_type": "markdown",
   "metadata": {},
   "source": [
    "即拟合所得的模型是：\n",
    "\n",
    "$x_t=1.38+0.02t-3.78S_t(0.69,0.5)+0.05tS_t(0.69,0.5)+e_t$\n",
    "\n",
    "$e_t=0.922e_{t-1}-0.168e_{t-2}+a_t$"
   ]
  },
  {
   "cell_type": "code",
   "execution_count": 16,
   "metadata": {
    "pycharm": {
     "is_executing": false
    }
   },
   "outputs": [
    {
     "data": {
      "text/plain": "<Figure size 432x288 with 1 Axes>",
      "image/png": "[encoded data removed]"
     },
     "metadata": {
      "needs_background": "light"
     },
     "output_type": "display_data"
    }
   ],
   "source": [
    "g=0.685\n",
    "m=0.507\n",
    "es1=[0]*2\n",
    "es1[0]=oil[0]\n",
    "es1[1]=oil[1]\n",
    "for i in range(2,len(oil)):\n",
    "    es1.append(para[0][0]+para[1][0]*i+para[2][0]*LSTR(g,m,i,oil)+para[3][0]*i*LSTR(g,m,i,oil)+para[-1][0]*es1[i-1]+para[-2][0]*es1[i-2])\n",
    "plt.plot(es1,'b')\n",
    "plt.plot(oil,'r--')\n",
    "plt.title('oil and its trend')\n",
    "plt.show()"
   ]
  },
  {
   "cell_type": "markdown",
   "source": [
    "该模型意味着在过渡期间截距从1.28降低到22.61，而趋势增长从每年2.0％增加到每年7.1％。 \n",
    "平滑过渡的中点估计为1951年，并且$\\gamma=0.685$表明，过渡速度相当快。 从图6.6所示的平稳过渡趋势可以看出，过渡大约需要6年才能完成，并且比1929年的“大崩盘”晚了二十年。"
   ],
   "metadata": {
    "collapsed": false,
    "pycharm": {
     "name": "#%% md\n"
    }
   }
  },
  {
   "cell_type": "markdown",
   "metadata": {},
   "source": [
    "下面是n=3分量傅里叶拟合，误差项同样服从AR（2）过程。"
   ]
  },
  {
   "cell_type": "code",
   "execution_count": 17,
   "metadata": {
    "pycharm": {
     "is_executing": false
    }
   },
   "outputs": [],
   "source": [
    "from math import sin,cos,pi\n",
    "def estimate_fourier(sample,p):  \n",
    "    g=0.685\n",
    "    m=0.507\n",
    "    matrix_x=np.zeros((len(sample)-p,p+8))  \n",
    "    array=sample.reshape(len(sample))  #array是样本全体\n",
    "    j=0\n",
    "    for i in range(0,len(sample)-p):\n",
    "        matrix_x[i,0:p+8]=np.hstack((np.array([1,p+i+1,sin(2*pi*1*(p+i+1)/len(sample)),\n",
    "                                               sin(2*pi*2*(p+i+1)/len(sample)),\n",
    "                                               sin(2*pi*3*(p+i+1)/len(sample)),\n",
    "                                               cos(2*pi*1*(p+i+1)/len(sample)),\n",
    "                                               cos(2*pi*2*(p+i+1)/len(sample)),\n",
    "                                               cos(2*pi*3*(p+i+1)/len(sample)),\n",
    "                                               ]),array[j:j+p]))\n",
    "        j+=1  \n",
    "    matrix_y=np.array(array[p:len(sample)])\n",
    "    matrix_y=matrix_y.reshape(len(sample)-p,1)\n",
    "    coef=np.dot(np.dot(np.linalg.inv(np.dot(matrix_x.T,matrix_x)),matrix_x.T),matrix_y)\n",
    "    return coef\n",
    "para=estimate_fourier(np.array(oil),0)"
   ]
  },
  {
   "cell_type": "code",
   "execution_count": 19,
   "metadata": {
    "pycharm": {
     "is_executing": false
    }
   },
   "outputs": [
    {
     "data": {
      "text/plain": "<Figure size 432x288 with 1 Axes>",
      "image/png": "[encoded data removed]"
     },
     "metadata": {
      "needs_background": "light"
     },
     "output_type": "display_data"
    }
   ],
   "source": [
    "es2=[]\n",
    "for i in range(0,len(oil)):\n",
    "    es2.append(para[0][0]+para[1][0]*i+para[2][0]*sin(2*pi*1*i/len(oil))\n",
    "              +para[3][0]*sin(2*pi*2*i/len(oil))+para[4][0]*sin(2*pi*3*i/len(oil))\n",
    "              +para[5][0]*cos(2*pi*1*i/len(oil))+para[6][0]*cos(2*pi*2*i/len(oil))\n",
    "              +para[7][0]*cos(2*pi*3*i/len(oil)))\n",
    "plt.plot(es2,'r--')\n",
    "plt.plot(oil,'b')\n",
    "plt.title('oil Fourier decomposition')\n",
    "plt.show()\n"
   ]
  },
  {
   "cell_type": "markdown",
   "metadata": {},
   "source": [
    "### Example 6.4"
   ]
  },
  {
   "cell_type": "markdown",
   "metadata": {},
   "source": [
    "使用示例6.3中拟合的LSTR模型的残差计算的DF单位根检验，误差尽管不符合AR（2）过程，但其值为24.46。 根据Leybourne等人的表1， \n",
    "（1998年）这在10％的水平上几乎是显着的，并且模型的残差通过AR（4）过程很好地拟合，两对复根分别为0.6860±23i和-0.20±0.57i。 \n",
    "因此，可以大致确定，股票价格应该合理地建模为确定性的非线性趋势和平稳噪声的总和，尽管正如我们所看到的，这种转变发生在趋势的“大崩溃”之后约20年。 符合Example 6.1。"
   ]
  },
  {
   "cell_type": "code",
   "execution_count": 40,
   "metadata": {},
   "outputs": [
    {
     "name": "stdout",
     "output_type": "stream",
     "text": [
      "-3.0621565818535568\n"
     ]
    }
   ],
   "source": [
    "g=0.685\n",
    "m=0.507\n",
    "error=[0]*len(oil)\n",
    "for i in range(0,2):\n",
    "    error[i]=oil[i]-1.377-0.017*(i)+3.659*LSTR(g,m,i,oil)-0.051*(i)*LSTR(g,m,i,oil)\n",
    "for i in range(2,len(error)):\n",
    "    error[i]=0.918*error[i-1]-0.172*error[i-2]\n",
    "print(getT(error,0.918))"
   ]
  },
  {
   "cell_type": "markdown",
   "metadata": {},
   "source": [
    "由于T统计量大于10%置信区间对应的临界值，因此不能否定误差有单位根的原假设。"
   ]
  }
 ],
 "metadata": {
  "kernelspec": {
   "display_name": "Python 3",
   "language": "python",
   "name": "python3"
  },
  "language_info": {
   "codemirror_mode": {
    "name": "ipython",
    "version": 3
   },
   "file_extension": ".py",
   "mimetype": "text/x-python",
   "name": "python",
   "nbconvert_exporter": "python",
   "pygments_lexer": "ipython3",
   "version": "3.7.6"
  },
  "pycharm": {
   "stem_cell": {
    "cell_type": "raw",
    "source": [],
    "metadata": {
     "collapsed": false
    }
   }
  }
 },
 "nbformat": 4,
 "nbformat_minor": 1
}