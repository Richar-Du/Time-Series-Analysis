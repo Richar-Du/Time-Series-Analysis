{
 "cells": [
  {
   "cell_type": "markdown",
   "source": [
    "## TESTING FOR A UNIT ROOT"
   ],
   "metadata": {
    "collapsed": false
   }
  },
  {
   "cell_type": "code",
   "execution_count": 1,
   "outputs": [],
   "source": [
    "# 导入需要的包\n",
    "import numpy as np\n",
    "import pandas as pd\n",
    "from statsmodels.graphics.tsaplots import plot_acf, plot_pacf\n",
    "from statsmodels.formula.api import ols\n",
    "import statsmodels\n",
    "from statsmodels.tsa.ar_model import AutoReg\n",
    "import statsmodels.tsa.api as smt\n",
    "import matplotlib.pyplot as plt\n",
    "from scipy import stats\n",
    "import statsmodels.api as sm\n",
    "\n"
   ],
   "metadata": {
    "collapsed": false,
    "pycharm": {
     "name": "#%%\n",
     "is_executing": false
    }
   }
  },
  {
   "cell_type": "markdown",
   "source": [
    "### Example 5.1"
   ],
   "metadata": {
    "collapsed": false,
    "pycharm": {
     "name": "#%% md\n"
    }
   }
  },
  {
   "cell_type": "markdown",
   "source": [
    "读入数据"
   ],
   "metadata": {
    "collapsed": false
   }
  },
  {
   "cell_type": "code",
   "execution_count": 16,
   "outputs": [],
   "source": [
    "data1=pd.read_csv(\"D:/anaconda3/envs/python36/TimeSeries/r20.csv\")\n",
    "data2=pd.read_csv(\"D:/anaconda3/envs/python36/TimeSeries/rs.csv\")\n",
    "data=data1['r20']-data2['rs']\n",
    "rate=data.dropna(axis=0,how='all')"
   ],
   "metadata": {
    "collapsed": false,
    "pycharm": {
     "name": "#%%\n",
     "is_executing": false
    }
   }
  },
  {
   "cell_type": "code",
   "execution_count": 17,
   "outputs": [
    {
     "name": "stdout",
     "text": [
      "ADF检验统计量： -4.019262627051042\n"
     ],
     "output_type": "stream"
    }
   ],
   "source": [
    "print('ADF检验统计量：',statsmodels.tsa.stattools.adfuller(rate,maxlag=2)[0])"
   ],
   "metadata": {
    "collapsed": false,
    "pycharm": {
     "name": "#%%\n",
     "is_executing": false
    }
   }
  },
  {
   "cell_type": "markdown",
   "source": [
    "ADF的检验统计量是-4.02<-3.44，因此在1%水平下显著。可以断定，该随机过程没有单位根，用AR(2) 拟合数据是合理的。"
   ],
   "metadata": {
    "collapsed": false,
    "pycharm": {
     "name": "#%% md\n"
    }
   }
  },
  {
   "cell_type": "code",
   "execution_count": 18,
   "outputs": [
    {
     "name": "stdout",
     "text": [
      "ADF检验统计量： -2.9552033243159075\n"
     ],
     "output_type": "stream"
    },
    {
     "data": {
      "text/plain": "<class 'statsmodels.iolib.summary.Summary'>\n\"\"\"\n                            AutoReg Model Results                             \n==============================================================================\nDep. Variable:                 2.3359   No. Observations:                10818\nModel:                     AutoReg(2)   Log Likelihood               34238.577\nMethod:               Conditional MLE   S.D. of innovations              0.010\nDate:                Thu, 06 Aug 2020   AIC                             -9.168\nTime:                        17:21:27   BIC                             -9.166\nSample:                             2   HQIC                            -9.167\n                                10818                                         \n==============================================================================\n                 coef    std err          z      P>|z|      [0.025      0.975]\n------------------------------------------------------------------------------\nintercept      0.0020      0.001      2.831      0.005       0.001       0.003\n2.3359.L1      1.0594      0.010    110.387      0.000       1.041       1.078\n2.3359.L2     -0.0606      0.010     -6.321      0.000      -0.079      -0.042\n                                    Roots                                    \n=============================================================================\n                  Real          Imaginary           Modulus         Frequency\n-----------------------------------------------------------------------------\nAR.1            1.0013           +0.0000j            1.0013            0.0000\nAR.2           16.4680           +0.0000j           16.4680            0.0000\n-----------------------------------------------------------------------------\n\"\"\"",
      "text/html": "<table class=\"simpletable\">\n<caption>AutoReg Model Results</caption>\n<tr>\n  <th>Dep. Variable:</th>      <td>2.3359</td>      <th>  No. Observations:  </th>   <td>10818</td>  \n</tr>\n<tr>\n  <th>Model:</th>            <td>AutoReg(2)</td>    <th>  Log Likelihood     </th> <td>34238.577</td>\n</tr>\n<tr>\n  <th>Method:</th>         <td>Conditional MLE</td> <th>  S.D. of innovations</th>   <td>0.010</td>  \n</tr>\n<tr>\n  <th>Date:</th>          <td>Thu, 06 Aug 2020</td> <th>  AIC                </th>  <td>-9.168</td>  \n</tr>\n<tr>\n  <th>Time:</th>              <td>17:21:27</td>     <th>  BIC                </th>  <td>-9.166</td>  \n</tr>\n<tr>\n  <th>Sample:</th>                <td>2</td>        <th>  HQIC               </th>  <td>-9.167</td>  \n</tr>\n<tr>\n  <th></th>                     <td>10818</td>      <th>                     </th>     <td> </td>    \n</tr>\n</table>\n<table class=\"simpletable\">\n<tr>\n      <td></td>         <th>coef</th>     <th>std err</th>      <th>z</th>      <th>P>|z|</th>  <th>[0.025</th>    <th>0.975]</th>  \n</tr>\n<tr>\n  <th>intercept</th> <td>    0.0020</td> <td>    0.001</td> <td>    2.831</td> <td> 0.005</td> <td>    0.001</td> <td>    0.003</td>\n</tr>\n<tr>\n  <th>2.3359.L1</th> <td>    1.0594</td> <td>    0.010</td> <td>  110.387</td> <td> 0.000</td> <td>    1.041</td> <td>    1.078</td>\n</tr>\n<tr>\n  <th>2.3359.L2</th> <td>   -0.0606</td> <td>    0.010</td> <td>   -6.321</td> <td> 0.000</td> <td>   -0.079</td> <td>   -0.042</td>\n</tr>\n</table>\n<table class=\"simpletable\">\n<caption>Roots</caption>\n<tr>\n    <td></td>   <th>            Real</th>  <th>         Imaginary</th> <th>         Modulus</th>  <th>        Frequency</th>\n</tr>\n<tr>\n  <th>AR.1</th> <td>           1.0013</td> <td>          +0.0000j</td> <td>           1.0013</td> <td>           0.0000</td>\n</tr>\n<tr>\n  <th>AR.2</th> <td>          16.4680</td> <td>          +0.0000j</td> <td>          16.4680</td> <td>           0.0000</td>\n</tr>\n</table>"
     },
     "metadata": {},
     "output_type": "execute_result",
     "execution_count": 18
    }
   ],
   "source": [
    "data=pd.read_csv(\"D:/anaconda3/envs/python36/TimeSeries/dollar.csv\",skiprows=1)\n",
    "dollar=data.dropna(axis=0,how='all')\n",
    "w=data.diff().dropna(axis=0,how='all')\n",
    "print('ADF检验统计量：',statsmodels.tsa.stattools.adfuller(dollar,maxlag=2)[0])\n",
    "resultAR = AutoReg(dollar, 2).fit()\n",
    "resultAR.summary()"
   ],
   "metadata": {
    "collapsed": false,
    "pycharm": {
     "name": "#%%\n",
     "is_executing": false
    }
   }
  },
  {
   "cell_type": "markdown",
   "source": [
    "ADF的检验统计量是-2.96>-3.43，在1%水平下不显著，但是在5%水平下显著。因此，该时间序列用AR过程建模可能并不合适，可能是随机游走过程。"
   ],
   "metadata": {
    "collapsed": false,
    "pycharm": {
     "name": "#%% md\n"
    }
   }
  },
  {
   "cell_type": "markdown",
   "source": [
    "### Example 5.2"
   ],
   "metadata": {
    "collapsed": false,
    "pycharm": {
     "name": "#%% md\n"
    }
   }
  },
  {
   "cell_type": "markdown",
   "source": [
    "在example 4.3中，全球气温被看作了是I(1)过程，但是有气象学上的假说认为应该是I(0)，因此有必要用单位根检验来确定差分的阶数。由于AR模型的阶数并不知道，因此这里根据5.8节的内容计算 $k=[2016^{0.25}]=6$，因此可以认为对应的AR过程是6阶，计算得出ADF检验统计量如下："
   ],
   "metadata": {
    "collapsed": false,
    "pycharm": {
     "name": "#%% md\n"
    }
   }
  },
  {
   "cell_type": "code",
   "execution_count": 22,
   "outputs": [
    {
     "name": "stdout",
     "text": [
      "ADF检验统计量： -3.4799782776305896\n",
      "ADF检验统计量的p值： 0.008516431527854983\n"
     ],
     "output_type": "stream"
    }
   ],
   "source": [
    "data=pd.read_csv(\"D:/anaconda3/envs/python36/TimeSeries/Global temperature.csv\")\n",
    "ts=data['value']\n",
    "print('ADF检验统计量：',statsmodels.tsa.stattools.adfuller(ts,maxlag=6)[0])\n",
    "print('ADF检验统计量的p值：',statsmodels.tsa.stattools.adfuller(ts,maxlag=6)[1])"
   ],
   "metadata": {
    "collapsed": false,
    "pycharm": {
     "name": "#%%\n",
     "is_executing": false
    }
   }
  },
  {
   "cell_type": "markdown",
   "source": [
    "可以看出，ADF检验统计量为-3.48<-3.43，尽管在1%水平下显著，但是p值为0.009，很接近0.01。因此，这个全球温度序列实际上是否为I(1)过程，还存在一定的争议。"
   ],
   "metadata": {
    "collapsed": false,
    "pycharm": {
     "name": "#%% md\n"
    }
   }
  },
  {
   "cell_type": "markdown",
   "source": [
    "## TREND VERSUS DIFFERENCE STATIONARITY"
   ],
   "metadata": {
    "collapsed": false,
    "pycharm": {
     "name": "#%% md\n"
    }
   }
  },
  {
   "cell_type": "markdown",
   "source": [
    "### Example 5.3"
   ],
   "metadata": {
    "collapsed": false,
    "pycharm": {
     "name": "#%% md\n"
    }
   }
  },
  {
   "cell_type": "markdown",
   "source": [
    "读入数据，分别对原始数据和一阶差分数据作图查看"
   ],
   "metadata": {
    "collapsed": false,
    "pycharm": {
     "name": "#%% md\n"
    }
   }
  },
  {
   "cell_type": "code",
   "execution_count": 8,
   "outputs": [
    {
     "data": {
      "text/plain": "<Figure size 432x288 with 1 Axes>",
      "image/png": "[encoded data removed]"
     },
     "metadata": {
      "needs_background": "dark"
     },
     "output_type": "display_data"
    },
    {
     "data": {
      "text/plain": "<Figure size 432x288 with 1 Axes>",
      "image/png": "[encoded data removed]"
     },
     "metadata": {
      "needs_background": "dark"
     },
     "output_type": "display_data"
    },
    {
     "data": {
      "text/plain": "<Figure size 432x288 with 1 Axes>",
      "image/png": "[encoded data removed]"
     },
     "metadata": {
      "needs_background": "dark"
     },
     "output_type": "display_data"
    }
   ],
   "source": [
    "wine_spirits=pd.read_csv(\"D:/anaconda3/envs/python36/TimeSeries/wine-spirits.csv\")\n",
    "wine=wine_spirits['wine'].dropna(axis=0,how='all')\n",
    "spirits=wine_spirits['spirits'].dropna(axis=0,how='all')\n",
    "plt.plot(wine,'r',label=\"winie\")\n",
    "plt.plot(spirits,'b--',label=\"spirits\")\n",
    "plt.title(\"wine_spirits\",color=\"white\")\n",
    "plt.tick_params(axis='x',colors='white')\n",
    "plt.tick_params(axis='y',colors='white')\n",
    "plt.legend()\n",
    "plt.show()\n",
    "wine_d=wine.diff().dropna()\n",
    "spirits_d=spirits.diff().dropna()\n",
    "plt.plot(wine_d,color='g')\n",
    "plt.title(\"first order difference of wine\",color=\"white\")\n",
    "plt.tick_params(axis='x',colors='white')\n",
    "plt.tick_params(axis='y',colors='white')\n",
    "plt.show()\n",
    "plt.plot(spirits_d)\n",
    "plt.title(\"first order difference of spirits\",color=\"white\")\n",
    "plt.tick_params(axis='x',colors='white')\n",
    "plt.tick_params(axis='y',colors='white')\n",
    "plt.show()"
   ],
   "metadata": {
    "collapsed": false,
    "pycharm": {
     "name": "#%%\n",
     "is_executing": false
    }
   }
  },
  {
   "cell_type": "markdown",
   "source": [
    "可以看出，wine和spirits的数据是逐渐上升的，因此可能初步猜测是趋势稳定的；但是从一阶差分的图像可以看出，一阶差分几乎是稳定的，因此也可以猜测是差分稳定的。为了辩别该序列到底符合哪种模型，下面计算包含趋势的ADF回归过程如下："
   ],
   "metadata": {
    "collapsed": false,
    "pycharm": {
     "name": "#%% md\n"
    }
   }
  },
  {
   "cell_type": "code",
   "execution_count": 56,
   "outputs": [
    {
     "name": "stdout",
     "text": [
      "wine 最小二乘法拟合结果如下：\n",
      "                            OLS Regression Results                            \n",
      "==============================================================================\n",
      "Dep. Variable:                 wine_d   R-squared:                       0.129\n",
      "Model:                            OLS   Adj. R-squared:                  0.101\n",
      "Method:                 Least Squares   F-statistic:                     4.609\n",
      "Date:                Fri, 07 Aug 2020   Prob (F-statistic):             0.0136\n",
      "Time:                        21:11:30   Log-Likelihood:                 52.887\n",
      "No. Observations:                  65   AIC:                            -99.77\n",
      "Df Residuals:                      62   BIC:                            -93.25\n",
      "Df Model:                           2                                         \n",
      "Covariance Type:            nonrobust                                         \n",
      "==============================================================================\n",
      "                 coef    std err          t      P>|t|      [0.025      0.975]\n",
      "------------------------------------------------------------------------------\n",
      "Intercept     -0.0488      0.035     -1.389      0.170      -0.119       0.021\n",
      "time           0.0092      0.003      3.021      0.004       0.003       0.015\n",
      "wine          -0.2065      0.072     -2.860      0.006      -0.351      -0.062\n",
      "==============================================================================\n",
      "Omnibus:                        7.071   Durbin-Watson:                   2.025\n",
      "Prob(Omnibus):                  0.029   Jarque-Bera (JB):               12.580\n",
      "Skew:                           0.105   Prob(JB):                      0.00186\n",
      "Kurtosis:                       5.145   Cond. No.                         212.\n",
      "==============================================================================\n",
      "\n",
      "Warnings:\n",
      "[1] Standard Errors assume that the covariance matrix of the errors is correctly specified.\n",
      "spirits 最小二乘法拟合结果如下：\n",
      "                            OLS Regression Results                            \n",
      "==============================================================================\n",
      "Dep. Variable:              spirits_d   R-squared:                       0.065\n",
      "Model:                            OLS   Adj. R-squared:                  0.035\n",
      "Method:                 Least Squares   F-statistic:                     2.171\n",
      "Date:                Fri, 07 Aug 2020   Prob (F-statistic):              0.123\n",
      "Time:                        21:11:30   Log-Likelihood:                 50.925\n",
      "No. Observations:                  65   AIC:                            -95.85\n",
      "Df Residuals:                      62   BIC:                            -89.33\n",
      "Df Model:                           2                                         \n",
      "Covariance Type:            nonrobust                                         \n",
      "==============================================================================\n",
      "                 coef    std err          t      P>|t|      [0.025      0.975]\n",
      "------------------------------------------------------------------------------\n",
      "Intercept      0.1122      0.047      2.373      0.021       0.018       0.207\n",
      "time           0.0022      0.002      1.437      0.156      -0.001       0.005\n",
      "spirits       -0.1213      0.061     -1.986      0.051      -0.243       0.001\n",
      "==============================================================================\n",
      "Omnibus:                        5.809   Durbin-Watson:                   2.000\n",
      "Prob(Omnibus):                  0.055   Jarque-Bera (JB):                4.901\n",
      "Skew:                           0.613   Prob(JB):                       0.0862\n",
      "Kurtosis:                       3.554   Cond. No.                         199.\n",
      "==============================================================================\n",
      "\n",
      "Warnings:\n",
      "[1] Standard Errors assume that the covariance matrix of the errors is correctly specified.\n"
     ],
     "output_type": "stream"
    },
    {
     "name": "stderr",
     "text": [
      "D:\\anaconda3\\envs\\python36\\lib\\site-packages\\ipykernel_launcher.py:5: SettingWithCopyWarning: \n",
      "A value is trying to be set on a copy of a slice from a DataFrame\n",
      "\n",
      "See the caveats in the documentation: https://pandas.pydata.org/pandas-docs/stable/user_guide/indexing.html#returning-a-view-versus-a-copy\n",
      "  \"\"\"\n",
      "D:\\anaconda3\\envs\\python36\\lib\\site-packages\\ipykernel_launcher.py:6: SettingWithCopyWarning: \n",
      "A value is trying to be set on a copy of a slice from a DataFrame\n",
      "\n",
      "See the caveats in the documentation: https://pandas.pydata.org/pandas-docs/stable/user_guide/indexing.html#returning-a-view-versus-a-copy\n",
      "  \n"
     ],
     "output_type": "stream"
    }
   ],
   "source": [
    "wine_spirits['time']=range(1,len(wine)+1)\n",
    "wine_spirits['wine_d']=wine_d\n",
    "wine_spirits['spirits_d']=spirits_d\n",
    "for i in range(len(wine_d)):\n",
    "    wine_spirits['wine_d'][i]=wine_spirits['wine_d'][i+1]\n",
    "    wine_spirits['spirits_d'][i]=wine_spirits['spirits_d'][i+1]\n",
    "wine_spirits=wine_spirits.dropna()\n",
    "\n",
    "wine_model = ols(formula='wine_d ~ time + wine ', data=wine_spirits)\n",
    "wine_res = wine_model.fit()\n",
    "print(\"wine 最小二乘法拟合结果如下：\")\n",
    "print(wine_res.summary())\n",
    "\n",
    "spirits_model = ols(formula='spirits_d ~ time + spirits ', data=wine_spirits)\n",
    "spirits_res = spirits_model.fit()\n",
    "print(\"spirits 最小二乘法拟合结果如下：\")\n",
    "print(spirits_res.summary())"
   ],
   "metadata": {
    "collapsed": false,
    "pycharm": {
     "name": "#%%\n",
     "is_executing": false
    }
   }
  },
  {
   "cell_type": "markdown",
   "source": [
    "因此，wine的差分平稳过程为：\n",
    "$\\triangledown x_t=-0.049+0.0092t-0.213x_{t-1}+\\hat{a_t}$\n",
    "\n",
    "spirits的差分平稳过程为：\n",
    "$\\triangledown x_t=0.112+0.0022t-0.121x_{t-1}+\\hat{a_t}$"
   ],
   "metadata": {
    "collapsed": false,
    "pycharm": {
     "name": "#%% md\n"
    }
   }
  },
  {
   "cell_type": "markdown",
   "source": [
    "根据公式（5.2）计算τ统计量如下："
   ],
   "metadata": {
    "collapsed": false,
    "pycharm": {
     "name": "#%% md\n",
     "is_executing": false
    }
   }
  },
  {
   "cell_type": "code",
   "execution_count": 9,
   "outputs": [
    {
     "name": "stdout",
     "text": [
      "The τ statistic of wine is: -2.3166044542269937\n"
     ],
     "output_type": "stream"
    }
   ],
   "source": [
    "T1=len(wine)\n",
    "phi_T=0\n",
    "for i in range(1,T1):\n",
    "    phi_T+=wine[i-1]*wine[i]\n",
    "phi_T=phi_T/np.dot(wine,wine)\n",
    "s_T2=0\n",
    "for t in range(1,len(wine)):\n",
    "    s_T2+=(wine[t]-phi_T*wine[t-1])**2\n",
    "s_T2=s_T2/(T1-1)\n",
    "denominator=0\n",
    "for t in range(T1-1):\n",
    "    denominator+=wine[t]*wine[t]\n",
    "sigma_phi_T=(s_T2/denominator)**0.5\n",
    "tau_miu=(phi_T-1)/sigma_phi_T\n",
    "print(\"The τ statistic of wine is:\",tau_miu)"
   ],
   "metadata": {
    "collapsed": false,
    "pycharm": {
     "name": "#%%\n",
     "is_executing": false
    }
   }
  },
  {
   "cell_type": "code",
   "execution_count": 10,
   "outputs": [
    {
     "name": "stdout",
     "text": [
      "The τ statistic of spirits is: -1.637171345197753\n"
     ],
     "output_type": "stream"
    }
   ],
   "source": [
    "T2=len(spirits)\n",
    "phi_T=0\n",
    "for i in range(1,T2):\n",
    "    phi_T+=spirits[i-1]*spirits[i]\n",
    "phi_T=phi_T/np.dot(spirits,spirits)\n",
    "s_T2=0\n",
    "for t in range(1,len(spirits)):\n",
    "    s_T2+=(spirits[t]-phi_T*spirits[t-1])**2\n",
    "s_T2=s_T2/(T2-1)\n",
    "denominator=0\n",
    "for t in range(T2-1):\n",
    "    denominator+=spirits[t]*spirits[t]\n",
    "sigma_phi_T=(s_T2/denominator)**0.5\n",
    "tau_miu=(phi_T-1)/sigma_phi_T\n",
    "print(\"The τ statistic of spirits is:\",tau_miu)"
   ],
   "metadata": {
    "collapsed": false,
    "pycharm": {
     "name": "#%%\n",
     "is_executing": false
    }
   }
  },
  {
   "cell_type": "markdown",
   "source": [
    "由于wine和spirits的τ统计量分别为-2.31和-1.64，绝对值都显著小于3.17，因此它们都是差分稳定而不是趋势稳定。"
   ],
   "metadata": {
    "collapsed": false,
    "pycharm": {
     "name": "#%% md\n"
    }
   }
  },
  {
   "cell_type": "markdown",
   "source": [
    "### Example 5.4"
   ],
   "metadata": {
    "collapsed": false,
    "pycharm": {
     "name": "#%% md\n"
    }
   }
  },
  {
   "cell_type": "markdown",
   "source": [
    "读入数据，作图查看"
   ],
   "metadata": {
    "collapsed": false,
    "pycharm": {
     "name": "#%% md\n"
    }
   }
  },
  {
   "cell_type": "code",
   "execution_count": 34,
   "outputs": [
    {
     "data": {
      "text/plain": "<Figure size 432x288 with 1 Axes>",
      "image/png": "[encoded data removed]"
     },
     "metadata": {
      "needs_background": "dark"
     },
     "output_type": "display_data"
    }
   ],
   "source": [
    "data=pd.read_csv(\"D:/anaconda3/envs/python36/TimeSeries/All Share.csv\")\n",
    "ts=np.log(data['value'])\n",
    "plt.plot(ts)\n",
    "plt.xlabel(\"time\",color=\"white\")\n",
    "plt.ylabel(\"log of all share index\",color=\"white\")\n",
    "plt.tick_params(axis='x',colors='white')\n",
    "plt.tick_params(axis='y',colors='white')\n",
    "plt.show()"
   ],
   "metadata": {
    "collapsed": false,
    "pycharm": {
     "name": "#%%\n",
     "is_executing": false
    }
   }
  },
  {
   "cell_type": "code",
   "execution_count": 11,
   "outputs": [
    {
     "name": "stdout",
     "text": [
      "The τ statistic of spirits is: -4.553702630987103\n"
     ],
     "output_type": "stream"
    }
   ],
   "source": [
    "T=len(ts)\n",
    "phi_T=0\n",
    "for i in range(1,T):\n",
    "    phi_T+=ts[i-1]*ts[i]\n",
    "phi_T=phi_T/np.dot(ts,ts)\n",
    "s_T2=0\n",
    "for t in range(1,T):\n",
    "    s_T2+=(ts[t]-phi_T*ts[t-1])**2\n",
    "s_T2=s_T2/(T-1)\n",
    "denominator=0\n",
    "for t in range(T-1):\n",
    "    denominator+=ts[t]*ts[t]\n",
    "sigma_phi_T=(s_T2/denominator)**0.5\n",
    "tau_miu=(phi_T-1)/sigma_phi_T\n",
    "print(\"The τ statistic of spirits is:\",tau_miu)"
   ],
   "metadata": {
    "collapsed": false,
    "pycharm": {
     "name": "#%%\n",
     "is_executing": false
    }
   }
  },
  {
   "cell_type": "code",
   "execution_count": 35,
   "outputs": [
    {
     "name": "stderr",
     "text": [
      "D:\\anaconda3\\envs\\python36\\lib\\site-packages\\ipykernel_launcher.py:6: SettingWithCopyWarning: \n",
      "A value is trying to be set on a copy of a slice from a DataFrame\n",
      "\n",
      "See the caveats in the documentation: https://pandas.pydata.org/pandas-docs/stable/user_guide/indexing.html#returning-a-view-versus-a-copy\n",
      "  \n",
      "D:\\anaconda3\\envs\\python36\\lib\\site-packages\\ipykernel_launcher.py:7: SettingWithCopyWarning: \n",
      "A value is trying to be set on a copy of a slice from a DataFrame\n",
      "\n",
      "See the caveats in the documentation: https://pandas.pydata.org/pandas-docs/stable/user_guide/indexing.html#returning-a-view-versus-a-copy\n",
      "  import sys\n",
      "D:\\anaconda3\\envs\\python36\\lib\\site-packages\\ipykernel_launcher.py:9: SettingWithCopyWarning: \n",
      "A value is trying to be set on a copy of a slice from a DataFrame\n",
      "\n",
      "See the caveats in the documentation: https://pandas.pydata.org/pandas-docs/stable/user_guide/indexing.html#returning-a-view-versus-a-copy\n",
      "  if __name__ == '__main__':\n"
     ],
     "output_type": "stream"
    },
    {
     "name": "stdout",
     "text": [
      "wine 最小二乘法拟合结果如下：\n",
      "                            OLS Regression Results                            \n",
      "==============================================================================\n",
      "Dep. Variable:                 delta2   R-squared:                       0.019\n",
      "Model:                            OLS   Adj. R-squared:                  0.015\n",
      "Method:                 Least Squares   F-statistic:                     5.045\n",
      "Date:                Sat, 08 Aug 2020   Prob (F-statistic):            0.00182\n",
      "Time:                        15:11:37   Log-Likelihood:                 1248.8\n",
      "No. Observations:                 790   AIC:                            -2490.\n",
      "Df Residuals:                     786   BIC:                            -2471.\n",
      "Df Model:                           3                                         \n",
      "Covariance Type:            nonrobust                                         \n",
      "==============================================================================\n",
      "                 coef    std err          t      P>|t|      [0.025      0.975]\n",
      "------------------------------------------------------------------------------\n",
      "Intercept      0.0002      0.005      0.052      0.958      -0.009       0.009\n",
      "time        3.834e-05   2.09e-05      1.838      0.066   -2.61e-06    7.93e-05\n",
      "lag_value  -8.205e-06   3.77e-06     -2.174      0.030   -1.56e-05   -7.97e-07\n",
      "delta          0.1129      0.035      3.195      0.001       0.044       0.182\n",
      "==============================================================================\n",
      "Omnibus:                      200.485   Durbin-Watson:                   1.982\n",
      "Prob(Omnibus):                  0.000   Jarque-Bera (JB):             5769.206\n",
      "Skew:                           0.468   Prob(JB):                         0.00\n",
      "Kurtosis:                      16.206   Cond. No.                     3.65e+04\n",
      "==============================================================================\n",
      "\n",
      "Warnings:\n",
      "[1] Standard Errors assume that the covariance matrix of the errors is correctly specified.\n",
      "[2] The condition number is large, 3.65e+04. This might indicate that there are\n",
      "strong multicollinearity or other numerical problems.\n"
     ],
     "output_type": "stream"
    }
   ],
   "source": [
    "data['delta']=ts.diff()\n",
    "data['delta2']=ts.diff()\n",
    "data['time']=range(1,len(ts)+1)\n",
    "data['lag_value']=data['value']\n",
    "for i in range(1,len(ts)):\n",
    "    data['delta'][i-1]=data['delta'][i]\n",
    "    data['lag_value'][i-1]=data['value'][i]\n",
    "for i in range(1,len(ts)-1):\n",
    "    data['delta2'][i-1]=data['delta2'][i+1]\n",
    "data=data.drop(labels=[790,791],axis=0)\n",
    "share_model = ols(formula='delta2 ~ time + lag_value + delta ', data=data)\n",
    "share_model = share_model.fit()\n",
    "print(\"wine 最小二乘法拟合结果如下：\")\n",
    "print(share_model.summary())"
   ],
   "metadata": {
    "collapsed": false,
    "pycharm": {
     "name": "#%%\n",
     "is_executing": false
    }
   }
  },
  {
   "cell_type": "markdown",
   "source": [
    "### Example 5.5"
   ],
   "metadata": {
    "collapsed": false,
    "pycharm": {
     "name": "#%% md\n"
    }
   }
  },
  {
   "cell_type": "markdown",
   "source": [
    "读入数据"
   ],
   "metadata": {
    "collapsed": false,
    "pycharm": {
     "name": "#%% md\n"
    }
   }
  },
  {
   "cell_type": "code",
   "execution_count": 2,
   "outputs": [
    {
     "data": {
      "text/plain": "<Figure size 432x288 with 1 Axes>",
      "image/png": "[encoded data removed]"
     },
     "metadata": {
      "needs_background": "light"
     },
     "output_type": "display_data"
    }
   ],
   "source": [
    "GDP=pd.read_csv(\"D:/anaconda3/envs/python36/TimeSeries/GDP.csv\")\n",
    "GDP=GDP.drop(labels=range(552),axis=0)\n",
    "GDP_log=np.log(GDP['value'])\n",
    "plt.plot(GDP_log,'r')\n",
    "plt.show()"
   ],
   "metadata": {
    "collapsed": false,
    "pycharm": {
     "name": "#%%\n",
     "is_executing": false
    }
   }
  },
  {
   "cell_type": "code",
   "execution_count": 3,
   "outputs": [
    {
     "name": "stderr",
     "text": [
      "D:\\anaconda3\\envs\\python36\\lib\\site-packages\\ipykernel_launcher.py:5: SettingWithCopyWarning: \n",
      "A value is trying to be set on a copy of a slice from a DataFrame\n",
      "\n",
      "See the caveats in the documentation: https://pandas.pydata.org/pandas-docs/stable/user_guide/indexing.html#returning-a-view-versus-a-copy\n",
      "  \"\"\"\n"
     ],
     "output_type": "stream"
    }
   ],
   "source": [
    "GDP['GDP_log']=GDP_log\n",
    "GDP['lag_GDP_log']=GDP_log\n",
    "GDP['time']=range(1,len(GDP_log)+1)\n",
    "for i in range(552,642):\n",
    "    GDP['lag_GDP_log'][i]=GDP['lag_GDP_log'][i+1]\n",
    "GDP=GDP.drop(labels=[642,643],axis=0)"
   ],
   "metadata": {
    "collapsed": false,
    "pycharm": {
     "name": "#%%\n",
     "is_executing": false
    }
   }
  },
  {
   "cell_type": "code",
   "execution_count": 71,
   "outputs": [
    {
     "name": "stdout",
     "text": [
      "GDP 最小二乘法拟合结果如下：\n",
      "                            OLS Regression Results                            \n",
      "==============================================================================\n",
      "Dep. Variable:                GDP_log   R-squared:                       0.990\n",
      "Model:                            OLS   Adj. R-squared:                  0.990\n",
      "Method:                 Least Squares   F-statistic:                     4487.\n",
      "Date:                Sat, 08 Aug 2020   Prob (F-statistic):           1.71e-88\n",
      "Time:                        16:00:48   Log-Likelihood:                 198.80\n",
      "No. Observations:                  90   AIC:                            -391.6\n",
      "Df Residuals:                      87   BIC:                            -384.1\n",
      "Df Model:                           2                                         \n",
      "Covariance Type:            nonrobust                                         \n",
      "===============================================================================\n",
      "                  coef    std err          t      P>|t|      [0.025      0.975]\n",
      "-------------------------------------------------------------------------------\n",
      "Intercept       0.0886      0.026      3.430      0.001       0.037       0.140\n",
      "time            0.0032      0.001      3.971      0.000       0.002       0.005\n",
      "lag_GDP_log     0.6960      0.077      9.095      0.000       0.544       0.848\n",
      "==============================================================================\n",
      "Omnibus:                        0.361   Durbin-Watson:                   1.990\n",
      "Prob(Omnibus):                  0.835   Jarque-Bera (JB):                0.527\n",
      "Skew:                          -0.104   Prob(JB):                        0.768\n",
      "Kurtosis:                       2.688   Cond. No.                     1.48e+03\n",
      "==============================================================================\n",
      "\n",
      "Warnings:\n",
      "[1] Standard Errors assume that the covariance matrix of the errors is correctly specified.\n",
      "[2] The condition number is large, 1.48e+03. This might indicate that there are\n",
      "strong multicollinearity or other numerical problems.\n"
     ],
     "output_type": "stream"
    }
   ],
   "source": [
    "GDP_model = ols(formula='GDP_log ~ time + lag_GDP_log  ', data=GDP)\n",
    "GDP_model = GDP_model.fit()\n",
    "print(\"GDP 最小二乘法拟合结果如下：\")\n",
    "print(GDP_model.summary())\n"
   ],
   "metadata": {
    "collapsed": false,
    "pycharm": {
     "name": "#%%\n",
     "is_executing": false
    }
   }
  },
  {
   "cell_type": "markdown",
   "source": [
    "写成模型（5.8）的形式就是$x_t=0.329+0.0103t+e_t$\n",
    "\n",
    "$e_t=0.696e_{t-1}+\\hat{a}_t$\n",
    "由于我们处理的是取对数之后的数据，因此该模型表明，真实的GDP数据以每年1.03%的速度在增长，在趋势线上有一个平稳的波动。因此，所有使得真实GDP偏离长期趋势的干扰都是短期的，GDP最终都会回到原来的趋势线上。由于噪声部分符合AR(1)过程，且系数接近0.7，因此干扰是呈几何级数迅速下降的，在7年之后能够下降90%。"
   ],
   "metadata": {
    "collapsed": false,
    "pycharm": {
     "name": "#%% md\n"
    }
   }
  },
  {
   "cell_type": "markdown",
   "source": [
    "注意到误差项没有显示出任何的商业周期性，因此误差至少会符合含有复根的AR(2)模型，但是AR(2)过程的第二个系数并不显著，因此不采取此模型。"
   ],
   "metadata": {
    "collapsed": false,
    "pycharm": {
     "name": "#%% md\n"
    }
   }
  },
  {
   "cell_type": "markdown",
   "source": [
    "重新构建差分稳定模型如下："
   ],
   "metadata": {
    "collapsed": false,
    "pycharm": {
     "name": "#%% md\n"
    }
   }
  },
  {
   "cell_type": "code",
   "execution_count": 7,
   "outputs": [
    {
     "name": "stderr",
     "text": [
      "D:\\anaconda3\\envs\\python36\\lib\\site-packages\\statsmodels\\tsa\\base\\tsa_model.py:214: ValueWarning: An unsupported index was provided and will be ignored when e.g. forecasting.\n",
      "  ' ignored when e.g. forecasting.', ValueWarning)\n"
     ],
     "output_type": "stream"
    },
    {
     "data": {
      "text/plain": "<class 'statsmodels.iolib.summary.Summary'>\n\"\"\"\n                            AutoReg Model Results                             \n==============================================================================\nDep. Variable:                  value   No. Observations:                   92\nModel:                     AutoReg(1)   Log Likelihood                 193.648\nMethod:               Conditional MLE   S.D. of innovations              0.029\nDate:                Sat, 08 Aug 2020   AIC                             -7.028\nTime:                        17:12:04   BIC                             -6.945\nSample:                             1   HQIC                            -6.995\n                                   92                                         \n==============================================================================\n                 coef    std err          z      P>|z|      [0.025      0.975]\n------------------------------------------------------------------------------\nintercept      0.0155      0.009      1.675      0.094      -0.003       0.034\nvalue.L1       0.9936      0.011     89.988      0.000       0.972       1.015\n                                    Roots                                    \n=============================================================================\n                  Real          Imaginary           Modulus         Frequency\n-----------------------------------------------------------------------------\nAR.1            1.0065           +0.0000j            1.0065            0.0000\n-----------------------------------------------------------------------------\n\"\"\"",
      "text/html": "<table class=\"simpletable\">\n<caption>AutoReg Model Results</caption>\n<tr>\n  <th>Dep. Variable:</th>       <td>value</td>      <th>  No. Observations:  </th>   <td>92</td>   \n</tr>\n<tr>\n  <th>Model:</th>            <td>AutoReg(1)</td>    <th>  Log Likelihood     </th> <td>193.648</td>\n</tr>\n<tr>\n  <th>Method:</th>         <td>Conditional MLE</td> <th>  S.D. of innovations</th>  <td>0.029</td> \n</tr>\n<tr>\n  <th>Date:</th>          <td>Sat, 08 Aug 2020</td> <th>  AIC                </th> <td>-7.028</td> \n</tr>\n<tr>\n  <th>Time:</th>              <td>17:12:04</td>     <th>  BIC                </th> <td>-6.945</td> \n</tr>\n<tr>\n  <th>Sample:</th>                <td>1</td>        <th>  HQIC               </th> <td>-6.995</td> \n</tr>\n<tr>\n  <th></th>                      <td>92</td>        <th>                     </th>    <td> </td>   \n</tr>\n</table>\n<table class=\"simpletable\">\n<tr>\n      <td></td>         <th>coef</th>     <th>std err</th>      <th>z</th>      <th>P>|z|</th>  <th>[0.025</th>    <th>0.975]</th>  \n</tr>\n<tr>\n  <th>intercept</th> <td>    0.0155</td> <td>    0.009</td> <td>    1.675</td> <td> 0.094</td> <td>   -0.003</td> <td>    0.034</td>\n</tr>\n<tr>\n  <th>value.L1</th>  <td>    0.9936</td> <td>    0.011</td> <td>   89.988</td> <td> 0.000</td> <td>    0.972</td> <td>    1.015</td>\n</tr>\n</table>\n<table class=\"simpletable\">\n<caption>Roots</caption>\n<tr>\n    <td></td>   <th>            Real</th>  <th>         Imaginary</th> <th>         Modulus</th>  <th>        Frequency</th>\n</tr>\n<tr>\n  <th>AR.1</th> <td>           1.0065</td> <td>          +0.0000j</td> <td>           1.0065</td> <td>           0.0000</td>\n</tr>\n</table>"
     },
     "metadata": {},
     "output_type": "execute_result",
     "execution_count": 7
    }
   ],
   "source": [
    "resultAR = AutoReg(GDP_log, 1).fit()\n",
    "resultAR.summary()\n"
   ],
   "metadata": {
    "collapsed": false,
    "pycharm": {
     "name": "#%%\n",
     "is_executing": false
    }
   }
  },
  {
   "cell_type": "markdown",
   "source": [
    "这是一个带漂移的随机游走，漂移项是0.0115。此处的截距是一个能够影响整个时间序列的干扰，而不会像上一个模型那样随着时间衰减。这个序列也不会像上一个那样返回到一条特定的趋势线上，而是每一个时间点都会重新产生干扰。"
   ],
   "metadata": {
    "collapsed": false,
    "pycharm": {
     "name": "#%% md\n"
    }
   }
  },
  {
   "cell_type": "markdown",
   "source": [
    "那么到底干扰项会长久地影响GDP？还是仅仅会短暂地影响它，最终回到长期趋势上来？我们需要计算含趋势的ADF回归过程，并计算检验统计量τ："
   ],
   "metadata": {
    "collapsed": false,
    "pycharm": {
     "name": "#%% md\n"
    }
   }
  },
  {
   "cell_type": "code",
   "execution_count": 6,
   "outputs": [
    {
     "name": "stdout",
     "text": [
      "The τ statistic of spirits is: -3.042302991492444\n"
     ],
     "output_type": "stream"
    }
   ],
   "source": [
    "T=len(GDP_log)\n",
    "phi_T=0\n",
    "for i in range(553,552+T):\n",
    "    phi_T+=GDP_log[i-1]*GDP_log[i]\n",
    "phi_T=phi_T/np.dot(GDP_log,GDP_log)\n",
    "s_T2=0\n",
    "for t in range(553,552+T):\n",
    "    s_T2+=(GDP_log[t]-phi_T*GDP_log[t-1])**2\n",
    "s_T2=s_T2/(T-1)\n",
    "denominator=0\n",
    "for t in range(552,552+T-1):\n",
    "    denominator+=GDP_log[t]*GDP_log[t]\n",
    "sigma_phi_T=(s_T2/denominator)**0.5\n",
    "tau_miu=(phi_T-1)/sigma_phi_T\n",
    "print(\"The τ statistic of spirits is:\",tau_miu)"
   ],
   "metadata": {
    "collapsed": false,
    "pycharm": {
     "name": "#%%\n",
     "is_executing": false
    }
   }
  },
  {
   "cell_type": "markdown",
   "source": [
    "由于检验统计量为-3.04，因此该时间序列更符合趋势平稳过程。\n",
    "\n",
    "\n",
    "\n",
    "\n",
    "\n",
    "\n"
   ],
   "metadata": {
    "collapsed": false,
    "pycharm": {
     "name": "#%% md\n"
    }
   }
  }
 ],
 "metadata": {
  "kernelspec": {
   "display_name": "Python 3",
   "language": "python",
   "name": "python3"
  },
  "language_info": {
   "codemirror_mode": {
    "name": "ipython",
    "version": 2
   },
   "file_extension": ".py",
   "mimetype": "text/x-python",
   "name": "python",
   "nbconvert_exporter": "python",
   "pygments_lexer": "ipython2",
   "version": "2.7.6"
  },
  "pycharm": {
   "stem_cell": {
    "cell_type": "raw",
    "source": [],
    "metadata": {
     "collapsed": false
    }
   }
  }
 },
 "nbformat": 4,
 "nbformat_minor": 0
}