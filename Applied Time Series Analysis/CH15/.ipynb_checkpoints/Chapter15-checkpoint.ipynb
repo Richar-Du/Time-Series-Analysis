{
 "cells": [
  {
   "cell_type": "markdown",
   "metadata": {},
   "source": [
    "## VARs With Integrated Variables"
   ]
  },
  {
   "cell_type": "markdown",
   "metadata": {},
   "source": [
    "## Example 15.2"
   ]
  },
  {
   "cell_type": "markdown",
   "metadata": {},
   "source": [
    "Example13.1对rs和r20进行建模时用了VAR(2)模型，考虑到Example 14.1已经证明了这两个利率是协整的，我们现在考察VECM模型。"
   ]
  },
  {
   "cell_type": "code",
   "execution_count": 3,
   "metadata": {},
   "outputs": [],
   "source": [
    "import numpy as np\n",
    "import pandas as pd\n",
    "import matplotlib.pyplot as plt"
   ]
  },
  {
   "cell_type": "code",
   "execution_count": 4,
   "metadata": {},
   "outputs": [],
   "source": [
    "r20=pd.read_csv(\"r20.csv\").dropna(axis=0,how='any')['r20']\n",
    "rs=pd.read_csv(\"rs.csv\").dropna(axis=0,how='any')['rs']\n",
    "spread=[]\n",
    "for i in range(len(r20)):\n",
    "    spread.append(r20[i]-rs[i])\n",
    "#公共函数：差分\n",
    "def delta_serie(vector):\n",
    "    ret=[]\n",
    "    for i in range(1,len(vector)):\n",
    "        ret.append(vector[i]-vector[i-1])\n",
    "    return ret\n",
    "dr20=delta_serie(r20)\n",
    "drs=delta_serie(rs)"
   ]
  },
  {
   "cell_type": "code",
   "execution_count": 5,
   "metadata": {},
   "outputs": [
    {
     "name": "stdout",
     "output_type": "stream",
     "text": [
      "[[ 0.01161712]\n",
      " [ 0.19950639]\n",
      " [-0.05317068]\n",
      " [ 0.29629252]\n",
      " [ 0.02614488]]\n",
      "[[-0.14211894]\n",
      " [ 0.31090991]\n",
      " [ 0.02369562]\n",
      " [-0.00942894]\n",
      " [-0.00361014]]\n"
     ]
    }
   ],
   "source": [
    "def ARDLpqr_estimation(sample,samplex,samplee,p,q,r):\n",
    "    if len(sample)!=len(samplex):\n",
    "        print('Wrong!')\n",
    "        return\n",
    "    h=max(p,q,r)\n",
    "    matrix_x=np.zeros((len(sample)-h,p+q+r+2))  \n",
    "    array=sample.reshape(len(sample))\n",
    "    arrayx=samplex.reshape(len(sample))\n",
    "    arraye=samplee.reshape(len(sample))\n",
    "    j=0\n",
    "    for i in range(0,len(sample)-h):\n",
    "        matrix_x[i,0:p+q+r+2]=np.hstack((array[j:j+p],arrayx[j:j+q+1],arraye[j:j+r+1]))\n",
    "        j+=1  \n",
    "    matrix_y=np.array(array[h:len(sample)])\n",
    "    matrix_y=matrix_y.reshape(len(sample)-h,1)\n",
    "    #系数的表达式：A=(X^TX)^-1 X^T Y\n",
    "    coef=np.dot(np.dot(np.linalg.inv(np.dot(matrix_x.T,matrix_x)),matrix_x.T),matrix_y)\n",
    "    return coef\n",
    "e=[]\n",
    "for i in range(len(r20)-1):\n",
    "    e.append(r20[i]-1.044*rs[i]-0.898)\n",
    "\n",
    "print(ARDLpqr_estimation(np.array(drs),np.array(dr20),np.array(e),2,1,0))\n",
    "print(ARDLpqr_estimation(np.array(dr20),np.array(drs),np.array(e),2,1,0))"
   ]
  },
  {
   "cell_type": "markdown",
   "metadata": {},
   "source": [
    "隐含VECM的ML估计获得结果如下，为方便起见以单独方程式形式编写（与先前的分析一致，由于常数项不显著，因此各个方程式均未包含任何截距，）：\n",
    "\n",
    "$\\Delta RS_t=0.199\\Delta RS_{t-1}+0.011\\Delta RS_{t-2}+0.296\\Delta R20_{t-1}-0.053\\Delta R20_{t-2}+0.026e_{t-1}$\n",
    "\n",
    "$\\Delta R20_t=0.310\\Delta R20_{t-1}-0.142\\Delta R20_{t-2}-0.009\\Delta RS_{t-1}+0.023\\Delta RS_{t-2}-0.004e_{t-1}$"
   ]
  },
  {
   "cell_type": "markdown",
   "metadata": {},
   "source": [
    "## Example 15.3"
   ]
  },
  {
   "cell_type": "markdown",
   "metadata": {},
   "source": [
    "除了规范化$\\alpha_2=1$（足以确定示例15.2中的VECM的协整矢量）外，模型的估计系数还提出了另外两个限制。 第一个是$\\alpha_1= -1$，因为$\\hat{\\alpha}$与该值无关紧要。 如例14.2拟合的ARDL模型中所发现的，该限制将误差校正定义为扩展与平衡值之间的偏差。 其次，d_r20公式中的误差校正项与零的差别不大，因此引发了一个问题，即R20是否可能是弱外生的。 用15.15节中的表示，$n1 = n2 = 1$，我们希望检验假设$\\beta_2= 0$以建立R20的弱外生性。"
   ]
  },
  {
   "cell_type": "code",
   "execution_count": 6,
   "metadata": {},
   "outputs": [
    {
     "name": "stdout",
     "output_type": "stream",
     "text": [
      "[[ 0.0118096 ]\n",
      " [ 0.20000173]\n",
      " [-0.05327599]\n",
      " [ 0.29646352]\n",
      " [ 0.02675206]]\n",
      "[[-0.14024634]\n",
      " [ 0.31332406]\n",
      " [ 0.0223528 ]\n",
      " [-0.01194279]]\n"
     ]
    }
   ],
   "source": [
    "def ARDLpq_estimation(sample,samplex,p,q):\n",
    "    if len(sample)!=len(samplex):\n",
    "        print('Wrong!')\n",
    "        return\n",
    "    h=max(p,q)\n",
    "    matrix_x=np.zeros((len(sample)-h,p+q+1))  \n",
    "    array=sample.reshape(len(sample))\n",
    "    arrayx=samplex.reshape(len(sample))\n",
    "    j=0\n",
    "    for i in range(0,len(sample)-h):\n",
    "        matrix_x[i,0:p+q+1]=np.hstack((array[j:j+p],arrayx[j:j+q+1]))\n",
    "        j+=1  \n",
    "    matrix_y=np.array(array[h:len(sample)])\n",
    "    matrix_y=matrix_y.reshape(len(sample)-h,1)\n",
    "    #系数的表达式：A=(X^TX)^-1 X^T Y\n",
    "    coef=np.dot(np.dot(np.linalg.inv(np.dot(matrix_x.T,matrix_x)),matrix_x.T),matrix_y)\n",
    "    return coef\n",
    "\n",
    "\n",
    "def ARDLpqr_estimation(sample,samplex,samplee,p,q,r):\n",
    "    if len(sample)!=len(samplex):\n",
    "        print('Wrong!')\n",
    "        return\n",
    "    h=max(p,q,r)\n",
    "    matrix_x=np.zeros((len(sample)-h,p+q+r+2))  \n",
    "    array=sample.reshape(len(sample))\n",
    "    arrayx=samplex.reshape(len(sample))\n",
    "    arraye=samplee.reshape(len(sample))\n",
    "    j=0\n",
    "    for i in range(0,len(sample)-h):\n",
    "        matrix_x[i,0:p+q+r+2]=np.hstack((array[j:j+p],arrayx[j:j+q+1],arraye[j:j+r+1]))\n",
    "        j+=1  \n",
    "    matrix_y=np.array(array[h:len(sample)])\n",
    "    matrix_y=matrix_y.reshape(len(sample)-h,1)\n",
    "    #系数的表达式：A=(X^TX)^-1 X^T Y\n",
    "    coef=np.dot(np.dot(np.linalg.inv(np.dot(matrix_x.T,matrix_x)),matrix_x.T),matrix_y)\n",
    "    return coef\n",
    "eR=[]\n",
    "for i in range(len(r20)-1):\n",
    "    eR.append(r20[i]-rs[i]-1.191)\n",
    "    \n",
    "print(ARDLpqr_estimation(np.array(drs),np.array(dr20),np.array(eR),2,1,0))\n",
    "print(ARDLpq_estimation(np.array(dr20),np.array(drs),2,1))"
   ]
  },
  {
   "cell_type": "markdown",
   "metadata": {},
   "source": [
    "得到：\n",
    "\n",
    "$\\Delta RS_t=0.200\\Delta RS_{t-1}+0.011\\Delta RS_{t-2}+0.296\\Delta R20_{t-1}-0.053\\Delta R20_{t-2}+0.027e^R_{t}$\n",
    "\n",
    "$\\Delta R20_t=0.313\\Delta R20_{t-1}-0.140\\Delta R20_{t-2}-0.011\\Delta RS_{t-1}+0.022\\Delta RS_{t-2}$"
   ]
  },
  {
   "cell_type": "markdown",
   "metadata": {},
   "source": [
    "注意，$\\phi_{1,21}$和^$\\phi_{2,21}$都与零无显着差异，因此R20实际上可以被认为是强烈外生的，没有从短速率到长速率的反馈。"
   ]
  },
  {
   "cell_type": "code",
   "execution_count": 10,
   "metadata": {},
   "outputs": [
    {
     "data": {
      "image/png": "[encoded data removed]",
      "text/plain": [
       "<Figure size 432x288 with 1 Axes>"
      ]
     },
     "metadata": {
      "needs_background": "light"
     },
     "output_type": "display_data"
    }
   ],
   "source": [
    "drsc=[]\n",
    "for i in range(len(drs)):\n",
    "    drsc.append(drs[i])\n",
    "dr20c=[]\n",
    "for i in range(len(drs)):\n",
    "    dr20c.append(dr20[i])\n",
    "for i in range(0,10):\n",
    "    drsc.append(0.2*drsc[len(drsc)-1]+0.011*drsc[len(drsc)-2]+0.296*dr20c[len(dr20c)-1]-0.053*dr20c[len(dr20c)-2]+0.026)\n",
    "    dr20c.append(0.313*dr20c[len(dr20c)-1]-0.140*dr20c[len(dr20c)-2]-0.011*drsc[len(drsc)-1]+0.022*drsc[len(drsc)-2])\n",
    "rsf=drsc[-11:-1]\n",
    "r20f=dr20c[-11:-1]\n",
    "#预测结果序列\n",
    "r20P=[r20[785]]\n",
    "rsP=[rs[785]]\n",
    "for i in range(1,10):\n",
    "    r20P.append(r20P[i-1]+r20f[i-1])\n",
    "    rsP.append(rsP[i-1]+rsf[i-1])\n",
    "plt.plot(r20P,label='r20')\n",
    "plt.plot(rsP,'r--',label='rs')\n",
    "plt.legend()\n",
    "plt.title(\"the prediction of r20 and rs\")\n",
    "plt.show()"
   ]
  },
  {
   "cell_type": "markdown",
   "metadata": {},
   "source": [
    "利率的未来价值的预测可以按照第7章，使用单变量模型进行预测的介绍中所述的方式，逐个方程式地获得。 图15.1显示了R20和RS到2020年底的预测。预测显示迅速稳定，在预测期末分别为1.694％和0.426％，这两个比率之差为1.268％， 接近点差的平衡值。"
   ]
  },
  {
   "cell_type": "markdown",
   "metadata": {},
   "source": [
    "## Example 15.7"
   ]
  },
  {
   "cell_type": "markdown",
   "metadata": {},
   "source": [
    "VECM-X模型具有一些有趣的含义。 总辐射强迫对温度没有短期影响：整个影响是通过滞后的误差校正项来实现的，因此，是驱使温度变化的最后一个时期与长期平衡的偏差。 毫不奇怪，外源气候变量对总辐射强迫没有影响，温度也没有任何短期反馈。 但是，由于存在滞后误差校正，因此存在从温度到总辐射强迫的长期反馈。 纠错项的符号均为负，因此系统处于稳定的平衡状态。"
   ]
  },
  {
   "cell_type": "code",
   "execution_count": 8,
   "metadata": {},
   "outputs": [
    {
     "name": "stdout",
     "output_type": "stream",
     "text": [
      "temp和trf间的最小二乘法参数： [[-0.1074766 ]\n",
      " [ 0.42201734]]\n"
     ]
    }
   ],
   "source": [
    "# 读入数据\n",
    "amo=np.read_csv(\"amo.csv\")['amo']\n",
    "soi=np.read_csv(\"soi.csv\")['soi']\n",
    "temp=np.read_csv(\"temp.csv\")['temp']\n",
    "trf=np.read_csv(\"trf.csv\")['trf']\n",
    "volc=np.read_csv(\"volc.csv\")['volc']\n",
    "dtemp=delta_serie(temp)\n",
    "dtrf=delta_serie(trf)\n",
    "e=[]\n",
    "def ARDLpq_estimation(sample,samplex,p,q):\n",
    "    if len(sample)!=len(samplex):\n",
    "        print('Wrong!')\n",
    "        return\n",
    "    h=max(p,q)\n",
    "    matrix_x=np.zeros((len(sample)-h,p+q+2))  \n",
    "    array=sample.reshape(len(sample))\n",
    "    arrayx=samplex.reshape(len(sample))\n",
    "    j=0\n",
    "    for i in range(0,len(sample)-h):\n",
    "        matrix_x[i,0:p+q+2]=np.hstack(([1],array[j:j+p],arrayx[j:j+q+1]))\n",
    "        j+=1  \n",
    "    matrix_y=np.array(array[h:len(sample)])\n",
    "    matrix_y=matrix_y.reshape(len(sample)-h,1)\n",
    "    #系数的表达式：A=(X^TX)^-1 X^T Y\n",
    "    coef=np.dot(np.dot(np.linalg.inv(np.dot(matrix_x.T,matrix_x)),matrix_x.T),matrix_y)\n",
    "    return coef\n",
    "\n",
    "print('temp和trf间的最小二乘法参数：',ARDLpq_estimation(np.array(temp),np.array(trf),0,0))\n",
    "#序列e通过最小二乘法拟合temp和trf得到\n",
    "for i in range(len(temp)-1):\n",
    "    e.append(temp[i]-0.015-0.000094*(i+1)-0.418*trf[i])"
   ]
  },
  {
   "cell_type": "code",
   "execution_count": 9,
   "metadata": {},
   "outputs": [
    {
     "name": "stdout",
     "output_type": "stream",
     "text": [
      "[[-3.19425991e-02]\n",
      " [-5.24042475e-01]\n",
      " [-5.65829884e-01]\n",
      " [-4.64368616e-01]\n",
      " [ 3.92272201e-04]\n",
      " [-1.80970313e-04]\n",
      " [ 2.46211436e-02]\n",
      " [-3.75524696e-01]]\n",
      "[[ 0.00372372]\n",
      " [-0.3641138 ]\n",
      " [ 0.75005306]\n",
      " [-1.37495734]\n",
      " [ 1.62661727]\n",
      " [-0.01269778]]\n"
     ]
    }
   ],
   "source": [
    "def ARDLpqabc_estimation(sample,samplex1,samplex2,samplex3,samplex4,p,q,a,b,c):\n",
    "    h=max(p,q,a,b,c)\n",
    "    matrix_x=np.zeros((len(sample)-h,p+q+a+b+c+5))  \n",
    "    array=sample.reshape(len(sample))\n",
    "    arrayx1=samplex1.reshape(len(sample))\n",
    "    arrayx2=samplex2.reshape(len(samplex2))\n",
    "    arrayx3=samplex3.reshape(len(samplex3))\n",
    "    arrayx4=samplex4.reshape(len(samplex4))\n",
    "    j=0\n",
    "    for i in range(0,len(sample)-h):\n",
    "        matrix_x[i,0:p+q+a+b+c+5]=np.hstack(([1],array[j:j+p],arrayx1[j:j+q+1],arrayx2[j:j+a+1],arrayx3[j:j+b+1],arrayx4[j:j+c+1]))\n",
    "        j+=1  \n",
    "    matrix_y=np.array(array[h:len(sample)])\n",
    "    matrix_y=matrix_y.reshape(len(sample)-h,1)\n",
    "    #系数的表达式：A=(X^TX)^-1 X^T Y\n",
    "    coef=np.dot(np.dot(np.linalg.inv(np.dot(matrix_x.T,matrix_x)),matrix_x.T),matrix_y)\n",
    "    return coef\n",
    "volc.pop(-1)\n",
    "soi.pop(-1)\n",
    "amo.pop(-1)\n",
    "print(ARDLpqabc_estimation(np.array(dtemp),np.array(volc),np.array(soi),np.array(amo),np.array(e),3,0,0,0,0))\n",
    "print(ARDLpq_estimation(np.array(dtrf),np.array(e),4,0))"
   ]
  },
  {
   "cell_type": "markdown",
   "metadata": {},
   "source": [
    "忽略<0.0001的系数后得到的估计结果：\n",
    "\n",
    "$\\Delta TEMP_t=-0.03-0.464TEMP_{t-1}-0.565TEMP_{t-2}-0.524TEMP_{t-3}+0.246AMO_{t}-0.375e_{t-1}$\n",
    "\n",
    "$\\Delta TRF_t=0.003+1.626\\Delta TRF_{t-1}-1.375TRF_{t-2}+0.750TRF_{t-3}-0.364TRF_{t-4}-0.012e_{t-1}$"
   ]
  }
 ],
 "metadata": {
  "kernelspec": {
   "display_name": "Python 3",
   "language": "python",
   "name": "python3"
  },
  "language_info": {
   "codemirror_mode": {
    "name": "ipython",
    "version": 3
   },
   "file_extension": ".py",
   "mimetype": "text/x-python",
   "name": "python",
   "nbconvert_exporter": "python",
   "pygments_lexer": "ipython3",
   "version": "3.6.10"
  },
  "pycharm": {
   "stem_cell": {
    "cell_type": "raw",
    "metadata": {
     "collapsed": false
    },
    "source": []
   }
  }
 },
 "nbformat": 4,
 "nbformat_minor": 1
}
