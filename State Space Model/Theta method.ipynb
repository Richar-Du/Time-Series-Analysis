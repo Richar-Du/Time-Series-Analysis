{
 "cells": [
  {
   "cell_type": "markdown",
   "metadata": {},
   "source": [
    "Theta method是local level的一个变种，但是在预测时间序列方面具有很强大的性能，它只需要在local level的状态变量表达式中加上一个常数项即可。\n",
    "\n",
    "例如我们下面生成$e \\sim N(\\mu=0;\\sigma_{e}^2=.8)$ , $u \\sim N(\\mu=0;\\sigma_{u}^2=.1)$ 且$constant=.1$的序列："
   ]
  },
  {
   "cell_type": "code",
   "execution_count": 1,
   "metadata": {
    "collapsed": true
   },
   "outputs": [],
   "source": [
    "import numpy as np\n",
    "import matplotlib.pyplot as plt\n",
    "from scipy import optimize"
   ]
  },
  {
   "cell_type": "code",
   "execution_count": 7,
   "metadata": {},
   "outputs": [
    {
     "data": {
      "image/png": "[encoded data removed]",
      "text/plain": [
       "<matplotlib.figure.Figure at 0x21462bf12e8>"
      ]
     },
     "metadata": {},
     "output_type": "display_data"
    }
   ],
   "source": [
    "n=100\n",
    "np.random.seed(572)\n",
    "su=.1\n",
    "se=.8\n",
    "co=.1\n",
    "e=np.sqrt(se)*np.random.randn(n)\n",
    "u=np.sqrt(su)*np.random.randn(n)\n",
    "y=np.zeros(n)\n",
    "alpha=np.zeros(n)\n",
    "y[0]=e[0]\n",
    "alpha[0]=u[0]\n",
    "for t in range(1,n):\n",
    "  y[t]=alpha[t-1]+e[t]\n",
    "  alpha[t]=alpha[t-1]+u[t]+co\n",
    "plt.plot(y,'b',label=\"y\")\n",
    "plt.plot(alpha,'r--',label=\"alpha\")\n",
    "plt.legend()\n",
    "plt.show()  "
   ]
  },
  {
   "cell_type": "markdown",
   "metadata": {},
   "source": [
    "下面我们就用concentrated的极大似然函数来估计其中的参数："
   ]
  },
  {
   "cell_type": "code",
   "execution_count": 3,
   "metadata": {},
   "outputs": [
    {
     "name": "stdout",
     "output_type": "stream",
     "text": [
      "极大似然估计所得结果： [ 0.2961434  0.1213051]\n",
      "真实参数： [0.125, 0.1]\n"
     ]
    }
   ],
   "source": [
    "a=np.zeros(n)\n",
    "p=np.zeros(n)\n",
    "a[0]=y[0]\n",
    "p[0]=10000\n",
    "k=np.zeros(n)\n",
    "v=np.zeros(n)\n",
    "def funTheta(mypa):\n",
    "    q=abs(mypa[0])\n",
    "    co=abs(mypa[1])\n",
    "    z=1\n",
    "    w=1\n",
    "    likelihood=0\n",
    "    sigmae=0\n",
    "    for t in range(1,n):\n",
    "        k[t]=(z*w*p[t-1])/(z**2*p[t-1]+1)\n",
    "        p[t]=w**2*p[t-1]-w*z*k[t]*p[t-1]+q\n",
    "        v[t]=y[t]-z*a[t-1]\n",
    "        a[t]=co+w*a[t-1]+k[t]*v[t]\n",
    "        sigmae=sigmae+(v[t]**2/(z**2*p[t-1]+1))\n",
    "        likelihood=likelihood+.5*np.log(2*np.pi)+.5+.5*np.log(z**2*p[t-1]+1)\n",
    "    likelihood+=.5*n*np.log(sigmae/n) \n",
    "    return likelihood\n",
    "res=optimize.minimize(funTheta,[0.6,0.2])\n",
    "print(\"极大似然估计所得结果：\",res.x)\n",
    "trueparam=[su/se,co]\n",
    "print(\"真实参数：\",trueparam)"
   ]
  },
  {
   "cell_type": "code",
   "execution_count": 8,
   "metadata": {},
   "outputs": [
    {
     "name": "stdout",
     "output_type": "stream",
     "text": [
      "estimated sigmae= 0.652385591726 ;true sigmae= 0.8\n",
      "estimated sigmau= 0.193199689205 ;true sigmae= 0.1\n"
     ]
    }
   ],
   "source": [
    "z=1\n",
    "w=1\n",
    "sigmae=0\n",
    "q=res.x[0]\n",
    "co=res.x[1]\n",
    "for t in range(1,n):\n",
    "    k[t]=(z*w*p[t-1])/(z**2*p[t-1]+1)\n",
    "    p[t]=w**2*p[t-1]-w*z*k[t]*p[t-1]+q\n",
    "    v[t]=y[t]-z*a[t-1]\n",
    "    a[t]=co+w*a[t-1]+k[t]*v[t]\n",
    "    sigmae=sigmae+(v[t]**2/(z**2*p[t-1]+1))\n",
    "print(\"estimated sigmae=\",sigmae/(n-1),';true sigmae=',se)\n",
    "print(\"estimated sigmau=\",q*(sigmae/(n-1)),';true sigmae=',su)"
   ]
  },
  {
   "cell_type": "markdown",
   "metadata": {},
   "source": [
    "由于Theta method功能十分强大，因此下面我们自定义两个函数，分别生成Theta method序列并估计其参数："
   ]
  },
  {
   "cell_type": "code",
   "execution_count": 13,
   "metadata": {
    "collapsed": true
   },
   "outputs": [],
   "source": [
    "def generateTheta(n,sigmae,sigmau,co):\n",
    "    \n",
    "    # 该函数生成Theta method序列，并输出y和alpha\n",
    "    \n",
    "    e=np.sqrt(sigmae)*np.random.randn(n)\n",
    "    u=np.sqrt(sigmau)*np.random.randn(n)\n",
    "    y=np.zeros(n)\n",
    "    alpha=np.zeros(n)\n",
    "    y[0]=e[0]\n",
    "    alpha[0]=u[0]\n",
    "    for t in range(1,n):\n",
    "      y[t]=alpha[t-1]+e[t]\n",
    "      alpha[t]=alpha[t-1]+u[t]+co\n",
    "    return y,alpha\n",
    "\n",
    "def EstimateTheta(y):\n",
    "    n=len(y)\n",
    "    a=np.zeros(n)\n",
    "    p=np.zeros(n)\n",
    "    k=np.zeros(n)\n",
    "    v=np.zeros(n)\n",
    "    def fu(mypa):        \n",
    "        q=abs(mypa[0])\n",
    "        co=abs(mypa[1])\n",
    "        z=1\n",
    "        w=1\n",
    "        likelihood=0\n",
    "        sigmae=0\n",
    "        for t in range(1,n):\n",
    "            k[t]=(z*w*p[t-1])/(z**2*p[t-1]+1)\n",
    "            p[t]=w**2*p[t-1]-w*z*k[t]*p[t-1]+q\n",
    "            v[t]=y[t]-z*a[t-1]\n",
    "            a[t]=co+w*a[t-1]+k[t]*v[t]\n",
    "            sigmae=sigmae+(v[t]**2/(z**2*p[t-1]+1))\n",
    "            likelihood=likelihood+.5*np.log(2*np.pi)+.5+.5*np.log(z**2*p[t-1]+1)\n",
    "        likelihood+=.5*n*np.log(sigmae/n) \n",
    "        return likelihood\n",
    "    res=optimize.minimize(funTheta,[0.5,0.2])\n",
    "    v[0]=0\n",
    "    w=1\n",
    "    z=1\n",
    "    q=res.x[0]\n",
    "    co=res.x[1]\n",
    "    sigmae=0\n",
    "    for t in range(1,n):\n",
    "        k[t]=(z*w*p[t-1])/(z**2*p[t-1]+1)\n",
    "        p[t]=w**2*p[t-1]-w*z*k[t]*p[t-1]+q\n",
    "        v[t]=y[t]-z*a[t-1]\n",
    "        a[t]=co+w*a[t-1]+k[t]*v[t]\n",
    "        sigmae=sigmae+(v[t]**2/(z**2*p[t-1]+1))\n",
    "    sigmae=sigmae/(n-1)\n",
    "    sigmau=q*sigmae\n",
    "    estimated_result=[sigmae,sigmau,co]\n",
    "#     thelist=[a,v]\n",
    "    return estimated_result"
   ]
  },
  {
   "cell_type": "code",
   "execution_count": 19,
   "metadata": {
    "collapsed": true
   },
   "outputs": [],
   "source": [
    "y,alpha=generateTheta(100,.6,.2,1)"
   ]
  },
  {
   "cell_type": "code",
   "execution_count": 20,
   "metadata": {},
   "outputs": [
    {
     "name": "stdout",
     "output_type": "stream",
     "text": [
      "true parameter: [0.6, 0.2, 1] ;estimated parameter: [0.60136795890802119, 0.16567006125151662, 1.0054898152962248]\n"
     ]
    }
   ],
   "source": [
    "np.random.seed(11)\n",
    "result=EstimateTheta(y)\n",
    "truepara=[0.6,0.2,1]\n",
    "print(\"true parameter:\",truepara,\";estimated parameter:\",result)"
   ]
  },
  {
   "cell_type": "markdown",
   "metadata": {},
   "source": [
    "作图查看结果："
   ]
  },
  {
   "cell_type": "code",
   "execution_count": 21,
   "metadata": {},
   "outputs": [
    {
     "data": {
      "image/png": "[encoded data removed]",
      "text/plain": [
       "<matplotlib.figure.Figure at 0x214646e0048>"
      ]
     },
     "metadata": {},
     "output_type": "display_data"
    }
   ],
   "source": [
    "sigmae=result[0]\n",
    "sigmau=result[1]\n",
    "co=result[2]\n",
    "a=np.zeros(n)\n",
    "p=np.zeros(n)\n",
    "k=np.zeros(n)\n",
    "v=np.zeros(n)\n",
    "for t in range(1,n):\n",
    "    k[t]=(z*w*p[t-1])/(z**2*p[t-1]+1)\n",
    "    p[t]=w**2*p[t-1]-w*z*k[t]*p[t-1]+q\n",
    "    v[t]=y[t]-z*a[t-1]\n",
    "    a[t]=co+w*a[t-1]+k[t]*v[t]\n",
    "plt.plot(y,'b',label=\"y\")\n",
    "plt.plot(alpha,'g',label=\"alpha\")\n",
    "plt.plot(a,'r--',label='a')\n",
    "plt.legend()\n",
    "plt.show()  "
   ]
  },
  {
   "cell_type": "code",
   "execution_count": null,
   "metadata": {
    "collapsed": true
   },
   "outputs": [],
   "source": []
  }
 ],
 "metadata": {
  "kernelspec": {
   "display_name": "Python 3",
   "language": "python",
   "name": "python3"
  },
  "language_info": {
   "codemirror_mode": {
    "name": "ipython",
    "version": 3
   },
   "file_extension": ".py",
   "mimetype": "text/x-python",
   "name": "python",
   "nbconvert_exporter": "python",
   "pygments_lexer": "ipython3",
   "version": "3.6.3"
  }
 },
 "nbformat": 4,
 "nbformat_minor": 2
}
